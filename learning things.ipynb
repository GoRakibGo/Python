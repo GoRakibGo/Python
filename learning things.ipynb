{
 "cells": [
  {
   "cell_type": "code",
   "execution_count": 1,
   "id": "7fa2163b",
   "metadata": {},
   "outputs": [
    {
     "name": "stdout",
     "output_type": "stream",
     "text": [
      "hello world!\n"
     ]
    }
   ],
   "source": [
    "print('hello world!')"
   ]
  },
  {
   "cell_type": "code",
   "execution_count": 2,
   "id": "02d07f1f",
   "metadata": {},
   "outputs": [
    {
     "name": "stdout",
     "output_type": "stream",
     "text": [
      "15.0\n",
      "5.0\n",
      "50.0\n",
      "2.0\n"
     ]
    }
   ],
   "source": [
    "#variables\n",
    "a = 10\n",
    "b = 5.0\n",
    "\n",
    "#Mathmatical operations\n",
    "print(a+b)\n",
    "print(a-b)\n",
    "print(a*b)\n",
    "print(a/b)"
   ]
  },
  {
   "cell_type": "code",
   "execution_count": 3,
   "id": "3825868d",
   "metadata": {},
   "outputs": [
    {
     "data": {
      "text/plain": [
       "int"
      ]
     },
     "execution_count": 3,
     "metadata": {},
     "output_type": "execute_result"
    }
   ],
   "source": [
    "#variable type\n",
    "type(a)"
   ]
  },
  {
   "cell_type": "code",
   "execution_count": 4,
   "id": "a6724507",
   "metadata": {},
   "outputs": [
    {
     "data": {
      "text/plain": [
       "float"
      ]
     },
     "execution_count": 4,
     "metadata": {},
     "output_type": "execute_result"
    }
   ],
   "source": [
    "type(b)"
   ]
  },
  {
   "cell_type": "code",
   "execution_count": 10,
   "id": "3390a845",
   "metadata": {},
   "outputs": [
    {
     "data": {
      "text/plain": [
       "complex"
      ]
     },
     "execution_count": 10,
     "metadata": {},
     "output_type": "execute_result"
    }
   ],
   "source": [
    "c = 10j\n",
    "type(c)"
   ]
  },
  {
   "cell_type": "code",
   "execution_count": 11,
   "id": "3099738b",
   "metadata": {},
   "outputs": [],
   "source": [
    "name = 'Rakib'"
   ]
  },
  {
   "cell_type": "code",
   "execution_count": 12,
   "id": "ab805b12",
   "metadata": {},
   "outputs": [
    {
     "data": {
      "text/plain": [
       "5"
      ]
     },
     "execution_count": 12,
     "metadata": {},
     "output_type": "execute_result"
    }
   ],
   "source": [
    "len(name)"
   ]
  },
  {
   "cell_type": "code",
   "execution_count": 15,
   "id": "69bc1023",
   "metadata": {},
   "outputs": [
    {
     "data": {
      "text/plain": [
       "'R'"
      ]
     },
     "execution_count": 15,
     "metadata": {},
     "output_type": "execute_result"
    }
   ],
   "source": [
    "name[0]"
   ]
  },
  {
   "cell_type": "code",
   "execution_count": 16,
   "id": "ab22e298",
   "metadata": {},
   "outputs": [
    {
     "data": {
      "text/plain": [
       "'akib'"
      ]
     },
     "execution_count": 16,
     "metadata": {},
     "output_type": "execute_result"
    }
   ],
   "source": [
    "name[1:7]"
   ]
  },
  {
   "cell_type": "code",
   "execution_count": 17,
   "id": "54eee06e",
   "metadata": {},
   "outputs": [
    {
     "data": {
      "text/plain": [
       "'aki'"
      ]
     },
     "execution_count": 17,
     "metadata": {},
     "output_type": "execute_result"
    }
   ],
   "source": [
    "name[1:4]"
   ]
  },
  {
   "cell_type": "code",
   "execution_count": 19,
   "id": "fc2f52b9",
   "metadata": {},
   "outputs": [
    {
     "data": {
      "text/plain": [
       "'k'"
      ]
     },
     "execution_count": 19,
     "metadata": {},
     "output_type": "execute_result"
    }
   ],
   "source": [
    "name[-3]"
   ]
  },
  {
   "cell_type": "code",
   "execution_count": 20,
   "id": "3a543ba4",
   "metadata": {},
   "outputs": [
    {
     "data": {
      "text/plain": [
       "'i'"
      ]
     },
     "execution_count": 20,
     "metadata": {},
     "output_type": "execute_result"
    }
   ],
   "source": [
    "name[3]"
   ]
  },
  {
   "cell_type": "code",
   "execution_count": 21,
   "id": "95733868",
   "metadata": {},
   "outputs": [],
   "source": [
    "mylist = [10, 5, 4, 3, 2, 'aho vatija', 'gua mara sara']"
   ]
  },
  {
   "cell_type": "code",
   "execution_count": 22,
   "id": "abd36cb9",
   "metadata": {},
   "outputs": [
    {
     "data": {
      "text/plain": [
       "[10, 5, 4, 3, 2, 'aho vatija', 'gua mara sara']"
      ]
     },
     "execution_count": 22,
     "metadata": {},
     "output_type": "execute_result"
    }
   ],
   "source": [
    "mylist"
   ]
  },
  {
   "cell_type": "code",
   "execution_count": 25,
   "id": "9c7af706",
   "metadata": {},
   "outputs": [
    {
     "data": {
      "text/plain": [
       "[4, 3, 2, 'aho vatija', 'gua mara sara']"
      ]
     },
     "execution_count": 25,
     "metadata": {},
     "output_type": "execute_result"
    }
   ],
   "source": [
    "mylist[2:7]"
   ]
  },
  {
   "cell_type": "code",
   "execution_count": 26,
   "id": "8db15f9f",
   "metadata": {},
   "outputs": [],
   "source": [
    "mylist.append(100)"
   ]
  },
  {
   "cell_type": "code",
   "execution_count": 27,
   "id": "1d19acfa",
   "metadata": {},
   "outputs": [
    {
     "data": {
      "text/plain": [
       "[10, 5, 4, 3, 2, 'aho vatija', 'gua mara sara', 100]"
      ]
     },
     "execution_count": 27,
     "metadata": {},
     "output_type": "execute_result"
    }
   ],
   "source": [
    "mylist"
   ]
  },
  {
   "cell_type": "code",
   "execution_count": 28,
   "id": "9a611d95",
   "metadata": {},
   "outputs": [],
   "source": [
    "mylist.insert(2, 'hoga mara sara')"
   ]
  },
  {
   "cell_type": "code",
   "execution_count": 29,
   "id": "e30e197a",
   "metadata": {},
   "outputs": [
    {
     "data": {
      "text/plain": [
       "[10, 5, 'hoga mara sara', 4, 3, 2, 'aho vatija', 'gua mara sara', 100]"
      ]
     },
     "execution_count": 29,
     "metadata": {},
     "output_type": "execute_result"
    }
   ],
   "source": [
    "mylist"
   ]
  },
  {
   "cell_type": "code",
   "execution_count": 30,
   "id": "094d4d15",
   "metadata": {},
   "outputs": [],
   "source": [
    "mylist.reverse()"
   ]
  },
  {
   "cell_type": "code",
   "execution_count": 31,
   "id": "7633088c",
   "metadata": {},
   "outputs": [
    {
     "data": {
      "text/plain": [
       "[100, 'gua mara sara', 'aho vatija', 2, 3, 4, 'hoga mara sara', 5, 10]"
      ]
     },
     "execution_count": 31,
     "metadata": {},
     "output_type": "execute_result"
    }
   ],
   "source": [
    "mylist"
   ]
  },
  {
   "cell_type": "code",
   "execution_count": 32,
   "id": "c75f42d1",
   "metadata": {},
   "outputs": [],
   "source": [
    "courses = {1: 'Python', 2: 'Data Science', 'third': 'Machine Learning'}"
   ]
  },
  {
   "cell_type": "code",
   "execution_count": 33,
   "id": "d6a81d55",
   "metadata": {},
   "outputs": [
    {
     "data": {
      "text/plain": [
       "{1: 'Python', 2: 'Data Science', 'third': 'Machine Learning'}"
      ]
     },
     "execution_count": 33,
     "metadata": {},
     "output_type": "execute_result"
    }
   ],
   "source": [
    "courses"
   ]
  },
  {
   "cell_type": "code",
   "execution_count": 34,
   "id": "b374f23e",
   "metadata": {},
   "outputs": [
    {
     "data": {
      "text/plain": [
       "'Machine Learning'"
      ]
     },
     "execution_count": 34,
     "metadata": {},
     "output_type": "execute_result"
    }
   ],
   "source": [
    "courses['third']"
   ]
  },
  {
   "cell_type": "code",
   "execution_count": 36,
   "id": "3c776e5e",
   "metadata": {},
   "outputs": [
    {
     "data": {
      "text/plain": [
       "'Machine Learning'"
      ]
     },
     "execution_count": 36,
     "metadata": {},
     "output_type": "execute_result"
    }
   ],
   "source": [
    "courses.get('third')"
   ]
  },
  {
   "cell_type": "code",
   "execution_count": 37,
   "id": "871bdc35",
   "metadata": {},
   "outputs": [],
   "source": [
    "courses['third'] = 'Blockchain'"
   ]
  },
  {
   "cell_type": "code",
   "execution_count": 38,
   "id": "a6ae5a67",
   "metadata": {},
   "outputs": [
    {
     "data": {
      "text/plain": [
       "{1: 'Python', 2: 'Data Science', 'third': 'Blockchain'}"
      ]
     },
     "execution_count": 38,
     "metadata": {},
     "output_type": "execute_result"
    }
   ],
   "source": [
    "courses"
   ]
  },
  {
   "cell_type": "code",
   "execution_count": 39,
   "id": "568309cf",
   "metadata": {},
   "outputs": [],
   "source": [
    "courses['four'] = 'Machine Learning'"
   ]
  },
  {
   "cell_type": "code",
   "execution_count": 40,
   "id": "ac011910",
   "metadata": {},
   "outputs": [
    {
     "data": {
      "text/plain": [
       "{1: 'Python',\n",
       " 2: 'Data Science',\n",
       " 'third': 'Blockchain',\n",
       " 'four': 'Machine Learning'}"
      ]
     },
     "execution_count": 40,
     "metadata": {},
     "output_type": "execute_result"
    }
   ],
   "source": [
    "courses"
   ]
  },
  {
   "cell_type": "code",
   "execution_count": 41,
   "id": "2d0bd9bd",
   "metadata": {},
   "outputs": [],
   "source": [
    "animals = ('tiger', 'lion', 'monkey', 'lion', 'lion', 'dog', 'cat', 'cat')"
   ]
  },
  {
   "cell_type": "code",
   "execution_count": 42,
   "id": "897d7bd7",
   "metadata": {},
   "outputs": [
    {
     "data": {
      "text/plain": [
       "'monkey'"
      ]
     },
     "execution_count": 42,
     "metadata": {},
     "output_type": "execute_result"
    }
   ],
   "source": [
    "animals[2]"
   ]
  },
  {
   "cell_type": "code",
   "execution_count": 43,
   "id": "cd17faf2",
   "metadata": {},
   "outputs": [
    {
     "data": {
      "text/plain": [
       "3"
      ]
     },
     "execution_count": 43,
     "metadata": {},
     "output_type": "execute_result"
    }
   ],
   "source": [
    "animals.count('lion')"
   ]
  },
  {
   "cell_type": "code",
   "execution_count": 44,
   "id": "81ca8674",
   "metadata": {},
   "outputs": [],
   "source": [
    "myset = {10, 20, 30, 40, 50, 'honlulu', 'bali'}"
   ]
  },
  {
   "cell_type": "code",
   "execution_count": 46,
   "id": "3e27847f",
   "metadata": {},
   "outputs": [
    {
     "data": {
      "text/plain": [
       "{10, 20, 30, 40, 50, 'bali', 'honlulu'}"
      ]
     },
     "execution_count": 46,
     "metadata": {},
     "output_type": "execute_result"
    }
   ],
   "source": [
    "myset"
   ]
  },
  {
   "cell_type": "code",
   "execution_count": 48,
   "id": "42202352",
   "metadata": {},
   "outputs": [
    {
     "data": {
      "text/plain": [
       "range(0, 10)"
      ]
     },
     "execution_count": 48,
     "metadata": {},
     "output_type": "execute_result"
    }
   ],
   "source": [
    "range(10)"
   ]
  },
  {
   "cell_type": "code",
   "execution_count": 49,
   "id": "8d23d15f",
   "metadata": {},
   "outputs": [
    {
     "data": {
      "text/plain": [
       "[0, 1, 2, 3, 4, 5, 6, 7, 8, 9, 10]"
      ]
     },
     "execution_count": 49,
     "metadata": {},
     "output_type": "execute_result"
    }
   ],
   "source": [
    "list(range(11))"
   ]
  },
  {
   "cell_type": "code",
   "execution_count": 50,
   "id": "cd0e75d6",
   "metadata": {},
   "outputs": [],
   "source": [
    "a = [1, 5, 7, 9]"
   ]
  },
  {
   "cell_type": "code",
   "execution_count": 51,
   "id": "fdeb8ed9",
   "metadata": {},
   "outputs": [],
   "source": [
    "b = {10, 30, 50, 100}"
   ]
  },
  {
   "cell_type": "code",
   "execution_count": 52,
   "id": "1da990d4",
   "metadata": {},
   "outputs": [],
   "source": [
    "c = [a , b]"
   ]
  },
  {
   "cell_type": "code",
   "execution_count": 53,
   "id": "85368ee2",
   "metadata": {},
   "outputs": [
    {
     "data": {
      "text/plain": [
       "[[1, 5, 7, 9], {10, 30, 50, 100}]"
      ]
     },
     "execution_count": 53,
     "metadata": {},
     "output_type": "execute_result"
    }
   ],
   "source": [
    "c"
   ]
  },
  {
   "cell_type": "code",
   "execution_count": 4,
   "id": "bac90c45",
   "metadata": {},
   "outputs": [
    {
     "name": "stdout",
     "output_type": "stream",
     "text": [
      "courses(name='artificial intelligence', technology='python')\n"
     ]
    }
   ],
   "source": [
    "#namedtuple\n",
    "from collections import namedtuple\n",
    "a = namedtuple('courses', 'name, technology')\n",
    "s = a._make(['artificial intelligence', 'python'])\n",
    "print(s)"
   ]
  },
  {
   "cell_type": "code",
   "execution_count": 5,
   "id": "49eb0264",
   "metadata": {},
   "outputs": [
    {
     "name": "stdout",
     "output_type": "stream",
     "text": [
      "deque(['h', 'u', 'n', 'l', 'u', 'l', 'u'])\n",
      "deque(['python', 'h', 'u', 'n', 'l', 'u', 'l', 'u'])\n",
      "deque(['h', 'u', 'n', 'l', 'u', 'l', 'u'])\n"
     ]
    }
   ],
   "source": [
    "#deque\n",
    "from collections import deque\n",
    "a = ['h', 'u', 'n', 'l', 'u', 'l', 'u']\n",
    "d = deque(a)\n",
    "print(d)\n",
    "d.appendleft('python')\n",
    "print(d)\n",
    "d.popleft()\n",
    "print(d)"
   ]
  },
  {
   "cell_type": "code",
   "execution_count": 6,
   "id": "60cb6639",
   "metadata": {},
   "outputs": [
    {
     "name": "stdout",
     "output_type": "stream",
     "text": [
      "ChainMap({1: 'learnig things', 2: 'python'}, {3: 'ML', 4: 'AI'})\n"
     ]
    }
   ],
   "source": [
    "#chainmap\n",
    "from collections import ChainMap\n",
    "a = {1: 'learnig things', 2: 'python'}\n",
    "b = {3: 'ML', 4: 'AI'}\n",
    "a1 = ChainMap(a,b)\n",
    "print(a1)"
   ]
  },
  {
   "cell_type": "code",
   "execution_count": 7,
   "id": "03943f90",
   "metadata": {},
   "outputs": [
    {
     "name": "stdout",
     "output_type": "stream",
     "text": [
      "Counter({2: 3, 1: 2, 3: 2, 4: 2, 5: 2, 7: 1, 6: 1, 9: 1, 8: 1, 0: 1})\n",
      "[1, 1, 2, 2, 2, 3, 3, 4, 4, 5, 5, 7, 6, 9, 8, 0]\n",
      "[(2, 3), (1, 2), (3, 2), (4, 2), (5, 2), (7, 1), (6, 1), (9, 1), (8, 1), (0, 1)]\n",
      "None\n",
      "[(1, 2), (2, 2), (3, 2), (4, 2), (5, 2), (6, 1), (9, 1), (8, 1), (0, 1), (7, 0)]\n"
     ]
    }
   ],
   "source": [
    "#counter\n",
    "from collections import Counter\n",
    "a = [1, 1, 2, 3, 2, 2, 4, 5, 7, 5, 6, 3, 4, 9, 8, 0]\n",
    "c = Counter(a)\n",
    "print(c)\n",
    "print(list(c.elements()))\n",
    "print(c.most_common())\n",
    "sub = {2:1, 7:1}\n",
    "print(c.subtract(sub))\n",
    "print(c.most_common())"
   ]
  },
  {
   "cell_type": "code",
   "execution_count": 8,
   "id": "7419c279",
   "metadata": {},
   "outputs": [
    {
     "name": "stdout",
     "output_type": "stream",
     "text": [
      "OrderedDict([(1, 'h'), (2, 'u'), (3, 'n'), (4, 'l'), (5, 'u'), (6, 'l'), (7, 'u')])\n"
     ]
    }
   ],
   "source": [
    "#orderedDict\n",
    "from collections import OrderedDict\n",
    "d = OrderedDict()\n",
    "d[1] = 'h'\n",
    "d[2] = 'u'\n",
    "d[3] = 'n'\n",
    "d[4] = 'l'\n",
    "d[5] = 'u'\n",
    "d[6] = 'l'\n",
    "d[7] = 'u'\n",
    "print(d)"
   ]
  },
  {
   "cell_type": "code",
   "execution_count": 1,
   "id": "3bf3b6b2",
   "metadata": {},
   "outputs": [
    {
     "name": "stdout",
     "output_type": "stream",
     "text": [
      "0\n"
     ]
    }
   ],
   "source": [
    "#defaultDict\n",
    "from collections import defaultdict\n",
    "d = defaultdict(int)\n",
    "d[1] = 'python'\n",
    "d[2] = 'hunlulu'\n",
    "print(d[3])"
   ]
  },
  {
   "cell_type": "code",
   "execution_count": 13,
   "id": "6f22aa16",
   "metadata": {},
   "outputs": [
    {
     "name": "stdout",
     "output_type": "stream",
     "text": [
      "array('i', [1, 2, 3, 4, 5, 6, 7, 8, 9])\n",
      "3\n"
     ]
    }
   ],
   "source": [
    "#craeting array\n",
    "import array as arr\n",
    "a = arr.array('i', [1,2,3,4,5,6,7,8,9])\n",
    "print(a)\n",
    "print(a[2])"
   ]
  },
  {
   "cell_type": "code",
   "execution_count": 15,
   "id": "1e5e07b9",
   "metadata": {},
   "outputs": [
    {
     "name": "stdout",
     "output_type": "stream",
     "text": [
      "Array a = array('d', [2.3, 5.4, 7.2, 9.1, 3.6])\n",
      "Array b = array('d', [2.3, 5.4, 7.2, 9.1, 3.6, 1.2, 8.5, 0.1])\n",
      "Array c = array('d', [2.3, 5.4, 0.5, 7.2, 9.1, 3.6, 1.2, 8.5, 0.1])\n",
      "Sorted array = [0.1, 0.5, 1.2, 2.3, 3.6, 5.4, 7.2, 8.5, 9.1]\n"
     ]
    }
   ],
   "source": [
    "#adding elements to an array\n",
    "import array as arr\n",
    "a = arr.array('d', [2.3, 5.4, 7.2, 9.1])\n",
    "a.append(3.6)\n",
    "print('Array a =', a)\n",
    "a.extend([1.2, 8.5, 0.1])\n",
    "print('Array b =', a)\n",
    "a.insert(2, 0.5)\n",
    "print('Array c =', a)\n",
    "print('Sorted array =', sorted(a))"
   ]
  },
  {
   "cell_type": "code",
   "execution_count": 18,
   "id": "abd4d3fe",
   "metadata": {},
   "outputs": [
    {
     "name": "stdout",
     "output_type": "stream",
     "text": [
      "array('d', [4.4, 5.7, 8.0, 9.9, 0.3, 3.1])\n",
      "poping last element 3.1\n",
      "poping 4th element 9.9\n",
      "array('d', [5.7, 8.0, 0.3])\n",
      "sorted array = [0.3, 5.7, 8.0]\n"
     ]
    }
   ],
   "source": [
    "#removing elements of an array\n",
    "import array as arr\n",
    "a = arr.array('d', [4.4, 5.7, 8.0, 9.9, 0.3, 3.1])\n",
    "print(a)\n",
    "print('poping last element', a.pop())\n",
    "print('poping 4th element', a.pop(3))\n",
    "a.remove(4.4)\n",
    "print(a)\n",
    "print('sorted array =', sorted(a))"
   ]
  },
  {
   "cell_type": "code",
   "execution_count": 19,
   "id": "e1dbe077",
   "metadata": {},
   "outputs": [
    {
     "name": "stdout",
     "output_type": "stream",
     "text": [
      "Array c = array('d', [4.1, 6.3, 9.2, 5.0, 1.3, 2.4, 0.3, 0.1, 2.7, 8.5, 7.2])\n",
      "sorted array = [0.1, 0.3, 1.3, 2.4, 2.7, 4.1, 5.0, 6.3, 7.2, 8.5, 9.2]\n"
     ]
    }
   ],
   "source": [
    "#array concatination\n",
    "import array as arr\n",
    "a = arr.array('d', [4.1, 6.3, 9.2, 5.0, 1.3, 2.4])\n",
    "b = arr.array('d', [0.3, 0.1, 2.7, 8.5, 7.2])\n",
    "c = arr.array('d')\n",
    "c = a+b\n",
    "print('Array c =', c)\n",
    "print('sorted array =', sorted(c))"
   ]
  },
  {
   "cell_type": "code",
   "execution_count": 20,
   "id": "c85ee037",
   "metadata": {},
   "outputs": [
    {
     "name": "stdout",
     "output_type": "stream",
     "text": [
      "array('d', [1.2, 3.5, 8.7, 5.3, 2.1])\n",
      "array('d', [1.2, 3.5, 8.7])\n"
     ]
    }
   ],
   "source": [
    "#slicing an array\n",
    "import array as arr\n",
    "a = arr.array('d',[1.2, 3.5, 8.7, 5.3, 2.1])\n",
    "print(a)\n",
    "print(a[0:3])"
   ]
  },
  {
   "cell_type": "code",
   "execution_count": 22,
   "id": "6a748dfc",
   "metadata": {},
   "outputs": [
    {
     "name": "stdout",
     "output_type": "stream",
     "text": [
      "All values of array a\n",
      "3.4\n",
      "2.1\n",
      "4.9\n",
      "5.3\n",
      "6.0\n",
      "8.7\n",
      "All values of array b\n",
      "4.4\n",
      "5.7\n",
      "8.0\n",
      "9.9\n",
      "0.3\n",
      "3.1\n"
     ]
    }
   ],
   "source": [
    "#looping through an array\n",
    "import array as arr\n",
    "a = arr.array('d', [3.4, 2.1, 4.9, 5.3, 6.0, 8.7])\n",
    "print('All values of array a')\n",
    "#for loop\n",
    "for x in a:\n",
    "    print(x)\n",
    "\n",
    "#while loop\n",
    "b = arr.array('d', [4.4, 5.7, 8.0, 9.9, 0.3, 3.1])\n",
    "temp = 0\n",
    "print('All values of array b')\n",
    "while temp<len(b):\n",
    "    print(b[temp])\n",
    "    temp += 1"
   ]
  },
  {
   "cell_type": "code",
   "execution_count": 4,
   "id": "fb648f79",
   "metadata": {},
   "outputs": [
    {
     "name": "stdout",
     "output_type": "stream",
     "text": [
      "{'Dave': '001', 'Ava': '002', 'Joe': '003'}\n",
      "{'Rakib': '001', 'Islam': '002'}\n"
     ]
    },
    {
     "data": {
      "text/plain": [
       "dict"
      ]
     },
     "execution_count": 4,
     "metadata": {},
     "output_type": "execute_result"
    }
   ],
   "source": [
    "#creating dictionaries\n",
    "my_dict = {'Dave': '001', 'Ava': '002', 'Joe': '003'}\n",
    "print(my_dict)\n",
    "new_dict = dict(Rakib = '001', Islam = '002')\n",
    "print(new_dict)\n",
    "type(new_dict)"
   ]
  },
  {
   "cell_type": "code",
   "execution_count": 1,
   "id": "853fdbe9",
   "metadata": {},
   "outputs": [
    {
     "name": "stdout",
     "output_type": "stream",
     "text": [
      "{'Employee': {'Dave': {'ID': '001', 'Salary': '2000', 'Designation': 'Team Lead'}, 'Ava': {'ID': '002', 'Salary': '1500', 'Designation': 'Associate'}}}\n"
     ]
    }
   ],
   "source": [
    "#nested dictionaries\n",
    "emp_details = {'Employee': {'Dave':{'ID': '001', 'Salary': '2000', 'Designation': 'Team Lead' },\n",
    "'Ava':{'ID': '002', 'Salary': '1500', 'Designation': 'Associate'}}}\n",
    "print(emp_details)"
   ]
  },
  {
   "cell_type": "code",
   "execution_count": 2,
   "id": "db05a536",
   "metadata": {},
   "outputs": [
    {
     "name": "stdout",
     "output_type": "stream",
     "text": [
      "001\n",
      "dict_keys(['Dave', 'Ava', 'Joe'])\n",
      "dict_values(['001', '002', '003'])\n",
      "002\n",
      "All the names :\n",
      "Dave\n",
      "Ava\n",
      "Joe\n",
      "All the values :\n",
      "001\n",
      "002\n",
      "003\n",
      "All the name and values :\n",
      "('Dave', '001')\n",
      "('Ava', '002')\n",
      "('Joe', '003')\n"
     ]
    }
   ],
   "source": [
    "#operrations on hashtable\n",
    "my_dict = {'Dave': '001', 'Ava': '002', 'Joe': '003'}\n",
    "#accessing items\n",
    "print(my_dict['Dave'])\n",
    "print(my_dict.keys())\n",
    "print(my_dict.values())\n",
    "print(my_dict.get('Ava'))\n",
    "print('All the names :')\n",
    "for x in my_dict:\n",
    "    print(x)\n",
    "\n",
    "print('All the values :')\n",
    "for y in my_dict.values():\n",
    "    print(y)\n",
    "\n",
    "print('All the name and values :')\n",
    "for z in my_dict.items():\n",
    "    print(z)"
   ]
  },
  {
   "cell_type": "code",
   "execution_count": 1,
   "id": "00b75a7f",
   "metadata": {},
   "outputs": [
    {
     "name": "stdout",
     "output_type": "stream",
     "text": [
      "001\n",
      "dict_keys(['Dave', 'Ava', 'Joe'])\n",
      "dict_values(['001', '002', '003'])\n",
      "002\n",
      "All the names :\n",
      "Dave\n",
      "Ava\n",
      "Joe\n",
      "All the values :\n",
      "001\n",
      "002\n",
      "003\n",
      "All the name and values :\n",
      "('Dave', '001')\n",
      "('Ava', '002')\n",
      "('Joe', '003')\n",
      "{'Dave': '004', 'Ava': '002', 'Joe': '003', 'Chris': '005'}\n",
      "002\n",
      "('Chris', '005')\n",
      "{'Joe': '003'}\n"
     ]
    }
   ],
   "source": [
    "#operrations on hashtable\n",
    "my_dict = {'Dave': '001', 'Ava': '002', 'Joe': '003'}\n",
    "#accessing items\n",
    "print(my_dict['Dave'])\n",
    "print(my_dict.keys())\n",
    "print(my_dict.values())\n",
    "print(my_dict.get('Ava'))\n",
    "print('All the names :')\n",
    "for x in my_dict:\n",
    "    print(x)\n",
    "\n",
    "print('All the values :')\n",
    "for y in my_dict.values():\n",
    "    print(y)\n",
    "\n",
    "print('All the name and values :')\n",
    "for z in my_dict.items():\n",
    "    print(z)\n",
    "\n",
    "#updating hashtable\n",
    "my_dict['Dave'] = '004'\n",
    "my_dict['Chris'] = '005'\n",
    "print(my_dict)\n",
    "\n",
    "#deleting entries\n",
    "print(my_dict.pop('Ava'))\n",
    "print(my_dict.popitem())\n",
    "del my_dict['Dave']\n",
    "print(my_dict)"
   ]
  },
  {
   "cell_type": "code",
   "execution_count": 2,
   "id": "f24fba68",
   "metadata": {},
   "outputs": [
    {
     "name": "stdout",
     "output_type": "stream",
     "text": [
      "{'Employee': {'Dave': {'ID': '001', 'Salary': '2000', 'Designation': 'Team Lead'}, 'Ava': {'ID': '002', 'Salary': '1500', 'Designation': 'Associate'}}}\n"
     ]
    }
   ],
   "source": [
    "#nested dictionaries\n",
    "emp_details = {'Employee': {'Dave':{'ID': '001', 'Salary': '2000', 'Designation': 'Team Lead' },\n",
    "'Ava':{'ID': '002', 'Salary': '1500', 'Designation': 'Associate'}}}\n",
    "print(emp_details)"
   ]
  },
  {
   "cell_type": "code",
   "execution_count": 4,
   "id": "a3c414cd",
   "metadata": {},
   "outputs": [
    {
     "name": "stdout",
     "output_type": "stream",
     "text": [
      "                  Dave        Ava\n",
      "ID                 001        002\n",
      "Salary            2000       1500\n",
      "Designation  Team Lead  Associate\n"
     ]
    }
   ],
   "source": [
    "#dictionary to dataframe\n",
    "import pandas as pd\n",
    "df = pd.DataFrame(emp_details['Employee'])\n",
    "print(df)"
   ]
  },
  {
   "cell_type": "markdown",
   "id": "960821a6",
   "metadata": {},
   "source": [
    "# Arithmetic operators"
   ]
  },
  {
   "cell_type": "code",
   "execution_count": 1,
   "id": "152c6fc3",
   "metadata": {},
   "outputs": [
    {
     "name": "stdout",
     "output_type": "stream",
     "text": [
      "15\n",
      "5\n",
      "50\n",
      "100000\n",
      "2.0\n",
      "2\n",
      "0\n"
     ]
    }
   ],
   "source": [
    "#arithmetic operators\n",
    "x = 10\n",
    "y = 5\n",
    "print(x+y)\n",
    "print(x-y)\n",
    "print(x*y)\n",
    "print(x**y) #x^power\n",
    "print(x/y)\n",
    "print(x//y) #flow division\n",
    "print(x%y) "
   ]
  },
  {
   "cell_type": "markdown",
   "id": "e44ba83c",
   "metadata": {},
   "source": [
    "# Assignment operators"
   ]
  },
  {
   "cell_type": "code",
   "execution_count": null,
   "id": "b11cafe3",
   "metadata": {},
   "outputs": [],
   "source": [
    "# assignment operators\n",
    "a = 5\n",
    "a += 5  # a = a + 5\n",
    "print(a)\n",
    "a **= 5\n",
    "print(a)\n",
    "a -= 10\n",
    "print(a)\n",
    "a /= 10\n",
    "print(a)"
   ]
  },
  {
   "cell_type": "markdown",
   "id": "81d5168f",
   "metadata": {},
   "source": [
    "# Comparison operators"
   ]
  },
  {
   "cell_type": "code",
   "execution_count": 3,
   "id": "7d63b16f",
   "metadata": {},
   "outputs": [
    {
     "name": "stdout",
     "output_type": "stream",
     "text": [
      "False\n",
      "True\n",
      "True\n",
      "False\n"
     ]
    }
   ],
   "source": [
    "#comparison operators\n",
    "val = 10\n",
    "num = 20\n",
    "compare = val == num\n",
    "print(compare)\n",
    "compare = val != num\n",
    "print(compare)\n",
    "compare = val <= num\n",
    "print(compare)\n",
    "compare = val >= num\n",
    "print(compare)"
   ]
  },
  {
   "cell_type": "markdown",
   "id": "0ed0eb0e",
   "metadata": {},
   "source": [
    "# Logical operators"
   ]
  },
  {
   "cell_type": "code",
   "execution_count": 10,
   "id": "626df605",
   "metadata": {},
   "outputs": [
    {
     "name": "stdout",
     "output_type": "stream",
     "text": [
      "smaller\n"
     ]
    }
   ],
   "source": [
    "#logical operators\n",
    "val = 10\n",
    "num = 20\n",
    "if val == num:\n",
    "    print('equal')\n",
    "elif val > num:\n",
    "    print('grater')\n",
    "else:\n",
    "    print('smaller')"
   ]
  },
  {
   "cell_type": "code",
   "execution_count": 7,
   "id": "acf37250",
   "metadata": {},
   "outputs": [
    {
     "data": {
      "text/plain": [
       "False"
      ]
     },
     "execution_count": 7,
     "metadata": {},
     "output_type": "execute_result"
    }
   ],
   "source": [
    "#logical and:   \n",
    "x>5 and x>10"
   ]
  },
  {
   "cell_type": "code",
   "execution_count": 8,
   "id": "954826e4",
   "metadata": {},
   "outputs": [
    {
     "data": {
      "text/plain": [
       "True"
      ]
     },
     "execution_count": 8,
     "metadata": {},
     "output_type": "execute_result"
    }
   ],
   "source": [
    "#logical or:\n",
    "x>5 or x>10"
   ]
  },
  {
   "cell_type": "code",
   "execution_count": 9,
   "id": "4cd5b841",
   "metadata": {},
   "outputs": [
    {
     "data": {
      "text/plain": [
       "True"
      ]
     },
     "execution_count": 9,
     "metadata": {},
     "output_type": "execute_result"
    }
   ],
   "source": [
    "#logical not\n",
    "not(x>5 and x>10)"
   ]
  },
  {
   "cell_type": "markdown",
   "id": "64fe80e6",
   "metadata": {},
   "source": [
    "# Identity operators"
   ]
  },
  {
   "cell_type": "code",
   "execution_count": 15,
   "id": "908cbf30",
   "metadata": {},
   "outputs": [],
   "source": [
    "list1 = [10, 20, 30]\n",
    "list2 = [10, 20, 30,'hunlulu']"
   ]
  },
  {
   "cell_type": "code",
   "execution_count": 3,
   "id": "b7fa3093",
   "metadata": {},
   "outputs": [],
   "source": [
    "x = list1"
   ]
  },
  {
   "cell_type": "code",
   "execution_count": 4,
   "id": "11b25384",
   "metadata": {},
   "outputs": [
    {
     "data": {
      "text/plain": [
       "True"
      ]
     },
     "execution_count": 4,
     "metadata": {},
     "output_type": "execute_result"
    }
   ],
   "source": [
    "x is list1"
   ]
  },
  {
   "cell_type": "code",
   "execution_count": 6,
   "id": "2e599876",
   "metadata": {},
   "outputs": [
    {
     "data": {
      "text/plain": [
       "False"
      ]
     },
     "execution_count": 6,
     "metadata": {},
     "output_type": "execute_result"
    }
   ],
   "source": [
    "list1 is list2 #these are not the same objects"
   ]
  },
  {
   "cell_type": "code",
   "execution_count": 7,
   "id": "767ffe39",
   "metadata": {},
   "outputs": [
    {
     "data": {
      "text/plain": [
       "True"
      ]
     },
     "execution_count": 7,
     "metadata": {},
     "output_type": "execute_result"
    }
   ],
   "source": [
    "list1 is not list2"
   ]
  },
  {
   "cell_type": "markdown",
   "id": "c9304b19",
   "metadata": {},
   "source": [
    "# Membership operators"
   ]
  },
  {
   "cell_type": "code",
   "execution_count": 8,
   "id": "d64d5baf",
   "metadata": {},
   "outputs": [
    {
     "data": {
      "text/plain": [
       "False"
      ]
     },
     "execution_count": 8,
     "metadata": {},
     "output_type": "execute_result"
    }
   ],
   "source": [
    "x in list1"
   ]
  },
  {
   "cell_type": "code",
   "execution_count": 9,
   "id": "559c5bcc",
   "metadata": {},
   "outputs": [
    {
     "data": {
      "text/plain": [
       "False"
      ]
     },
     "execution_count": 9,
     "metadata": {},
     "output_type": "execute_result"
    }
   ],
   "source": [
    "list1 in list2"
   ]
  },
  {
   "cell_type": "code",
   "execution_count": 10,
   "id": "6b0cd583",
   "metadata": {},
   "outputs": [
    {
     "data": {
      "text/plain": [
       "True"
      ]
     },
     "execution_count": 10,
     "metadata": {},
     "output_type": "execute_result"
    }
   ],
   "source": [
    "10 in list1"
   ]
  },
  {
   "cell_type": "code",
   "execution_count": 16,
   "id": "a7e89db9",
   "metadata": {},
   "outputs": [
    {
     "data": {
      "text/plain": [
       "True"
      ]
     },
     "execution_count": 16,
     "metadata": {},
     "output_type": "execute_result"
    }
   ],
   "source": [
    "'hunlulu' in list2"
   ]
  },
  {
   "cell_type": "markdown",
   "id": "11916eff",
   "metadata": {},
   "source": [
    "# Bitwise operator"
   ]
  },
  {
   "cell_type": "code",
   "execution_count": 21,
   "id": "66d43704",
   "metadata": {},
   "outputs": [
    {
     "data": {
      "text/plain": [
       "8"
      ]
     },
     "execution_count": 21,
     "metadata": {},
     "output_type": "execute_result"
    }
   ],
   "source": [
    "10 & 12  # 1010 & 1100 = 1000"
   ]
  },
  {
   "cell_type": "code",
   "execution_count": 20,
   "id": "80557b8f",
   "metadata": {},
   "outputs": [
    {
     "data": {
      "text/plain": [
       "14"
      ]
     },
     "execution_count": 20,
     "metadata": {},
     "output_type": "execute_result"
    }
   ],
   "source": [
    "10 | 12"
   ]
  },
  {
   "cell_type": "code",
   "execution_count": 22,
   "id": "b1cd4b20",
   "metadata": {},
   "outputs": [
    {
     "data": {
      "text/plain": [
       "2"
      ]
     },
     "execution_count": 22,
     "metadata": {},
     "output_type": "execute_result"
    }
   ],
   "source": [
    "10 >> 2"
   ]
  },
  {
   "cell_type": "code",
   "execution_count": 23,
   "id": "4275ec67",
   "metadata": {},
   "outputs": [
    {
     "data": {
      "text/plain": [
       "40"
      ]
     },
     "execution_count": 23,
     "metadata": {},
     "output_type": "execute_result"
    }
   ],
   "source": [
    "10 << 2"
   ]
  },
  {
   "cell_type": "markdown",
   "id": "4fe72fd5",
   "metadata": {},
   "source": [
    "# Loops in python"
   ]
  },
  {
   "cell_type": "code",
   "execution_count": 24,
   "id": "54dd7727",
   "metadata": {},
   "outputs": [
    {
     "name": "stdout",
     "output_type": "stream",
     "text": [
      "0\n",
      "1\n",
      "2\n",
      "3\n",
      "4\n",
      "5\n",
      "6\n",
      "7\n",
      "8\n",
      "Good bye!\n"
     ]
    }
   ],
   "source": [
    "#while loop\n",
    "count = 0\n",
    "while count < 9:\n",
    "    print(count)\n",
    "    count = count+1\n",
    "print('Good bye!')"
   ]
  },
  {
   "cell_type": "code",
   "execution_count": 1,
   "id": "0c884c32",
   "metadata": {},
   "outputs": [
    {
     "name": "stdout",
     "output_type": "stream",
     "text": [
      "New number: 12\n",
      "Number is too large\n",
      "New number: 11\n",
      "Number is too large\n",
      "New number: 10\n",
      "Number is too large\n",
      "New number: 9\n",
      "Number is too large\n",
      "New number: 8\n",
      "Number is too large\n",
      "New number: 7\n",
      "Number is too large\n",
      "New number: 5\n",
      "Number is too large\n",
      "New number: 3\n",
      "Number is too small\n",
      "New number: 4\n",
      "Congratulation! You made it :D\n"
     ]
    }
   ],
   "source": [
    "#advanced application(while_loop)\n",
    "import random\n",
    "n = 20\n",
    "to_be_guessed = int(n * random.random()) + 1\n",
    "guess = 0\n",
    "while guess != to_be_guessed:\n",
    "    guess = int(input('New number: '))\n",
    "    if guess > 0:\n",
    "        if guess > to_be_guessed:\n",
    "            print('Number is too large')\n",
    "        elif guess < to_be_guessed:\n",
    "            print('Number is too small')\n",
    "    else:\n",
    "        print('Sorry! You are giving up')\n",
    "        break\n",
    "else:\n",
    "    print('Congratulation! You made it :D')\n"
   ]
  },
  {
   "cell_type": "code",
   "execution_count": 2,
   "id": "badb9906",
   "metadata": {},
   "outputs": [
    {
     "name": "stdout",
     "output_type": "stream",
     "text": [
      "Current fruit: Mango\n",
      "Current fruit: Apple\n",
      "Current fruit: Grapes\n",
      "Good bye!\n"
     ]
    }
   ],
   "source": [
    "#for loop\n",
    "fruits = ['Mango', 'Apple', 'Grapes']\n",
    "for fruit in fruits:\n",
    "    print('Current fruit:', fruit)\n",
    "print('Good bye!')"
   ]
  },
  {
   "cell_type": "code",
   "execution_count": 1,
   "id": "f2fd88e2",
   "metadata": {},
   "outputs": [
    {
     "name": "stdout",
     "output_type": "stream",
     "text": [
      "Number:7\n",
      "factorial = 5040\n"
     ]
    }
   ],
   "source": [
    "#advance application(for_loop)\n",
    "num = int(input('Number:'))\n",
    "factorial = 1\n",
    "\n",
    "if num < 0:\n",
    "    print('Must be positive')\n",
    "elif num == 0:\n",
    "    print('factorial = 1')\n",
    "else:\n",
    "    for i in range(1, num+1 ):\n",
    "        factorial = factorial * i\n",
    "print('factorial =', factorial)"
   ]
  },
  {
   "cell_type": "code",
   "execution_count": 1,
   "id": "05e06b27",
   "metadata": {},
   "outputs": [
    {
     "name": "stdout",
     "output_type": "stream",
     "text": [
      "Maximum Number?10\n",
      "3 4 5\n",
      "6 8 10\n"
     ]
    }
   ],
   "source": [
    "#pythagorean number\n",
    "from math import sqrt\n",
    "n = int(input('Maximum Number?'))\n",
    "for a in range(1,n+1):\n",
    "    for b in range(a,n):\n",
    "        c_square = a**2 + b**2\n",
    "        c = int(sqrt(c_square))\n",
    "        if((c_square - c**2) == 0):\n",
    "            print(a, b, c)"
   ]
  },
  {
   "cell_type": "markdown",
   "id": "bcaf0c12",
   "metadata": {},
   "source": [
    "# NumPy"
   ]
  },
  {
   "cell_type": "code",
   "execution_count": 1,
   "id": "85a11055",
   "metadata": {},
   "outputs": [
    {
     "data": {
      "image/png": "[encoded data removed]",
      "text/plain": [
       "<Figure size 432x288 with 1 Axes>"
      ]
     },
     "metadata": {
      "needs_background": "light"
     },
     "output_type": "display_data"
    }
   ],
   "source": [
    "import numpy as np\n",
    "import matplotlib.pyplot as plt \n",
    "x = np.arange(0, 3*np.pi, 0.1)\n",
    "y = np.tan(x)\n",
    "plt.plot(x,y)\n",
    "plt.show()"
   ]
  },
  {
   "cell_type": "markdown",
   "id": "a034ac81",
   "metadata": {},
   "source": [
    "# Numpy Special Function"
   ]
  },
  {
   "cell_type": "code",
   "execution_count": 4,
   "id": "f2ba769b",
   "metadata": {},
   "outputs": [
    {
     "name": "stdout",
     "output_type": "stream",
     "text": [
      "[ 2.71828183  7.3890561  20.08553692]\n"
     ]
    }
   ],
   "source": [
    "import numpy as np\n",
    "import matplotlib.pyplot as plt\n",
    "a = np.array([1,2,3])\n",
    "print(np.exp(a))"
   ]
  },
  {
   "cell_type": "code",
   "execution_count": 5,
   "id": "a7b37eb1",
   "metadata": {},
   "outputs": [
    {
     "name": "stdout",
     "output_type": "stream",
     "text": [
      "[0.         0.69314718 1.09861229]\n"
     ]
    }
   ],
   "source": [
    "import numpy as np\n",
    "import matplotlib.pyplot as plt\n",
    "a = np.array([1,2,3])\n",
    "print(np.log(a))"
   ]
  },
  {
   "cell_type": "code",
   "execution_count": 6,
   "id": "0432701a",
   "metadata": {},
   "outputs": [
    {
     "name": "stdout",
     "output_type": "stream",
     "text": [
      "[0.         0.30103    0.47712125]\n"
     ]
    }
   ],
   "source": [
    "import numpy as np\n",
    "import matplotlib.pyplot as plt\n",
    "a = np.array([1,2,3])\n",
    "print(np.log10(a))"
   ]
  },
  {
   "cell_type": "markdown",
   "id": "2f0457c3",
   "metadata": {},
   "source": [
    "# SciPy"
   ]
  },
  {
   "cell_type": "markdown",
   "id": "d530ea12",
   "metadata": {},
   "source": [
    "# Special"
   ]
  },
  {
   "cell_type": "code",
   "execution_count": 10,
   "id": "5130ac96",
   "metadata": {},
   "outputs": [
    {
     "name": "stdout",
     "output_type": "stream",
     "text": [
      "100.0\n"
     ]
    }
   ],
   "source": [
    "from scipy import special\n",
    "a = special.exp10(2)\n",
    "print(a)"
   ]
  },
  {
   "cell_type": "code",
   "execution_count": 11,
   "id": "92764937",
   "metadata": {},
   "outputs": [
    {
     "name": "stdout",
     "output_type": "stream",
     "text": [
      "8.0\n"
     ]
    }
   ],
   "source": [
    "b = special.exp2(3)\n",
    "print(b)"
   ]
  },
  {
   "cell_type": "code",
   "execution_count": 12,
   "id": "b3c389fd",
   "metadata": {},
   "outputs": [
    {
     "name": "stdout",
     "output_type": "stream",
     "text": [
      "1.0\n"
     ]
    }
   ],
   "source": [
    "c = special.sindg(90)\n",
    "print(c)"
   ]
  },
  {
   "cell_type": "code",
   "execution_count": 13,
   "id": "ee42b13b",
   "metadata": {},
   "outputs": [
    {
     "name": "stdout",
     "output_type": "stream",
     "text": [
      "-0.0\n"
     ]
    }
   ],
   "source": [
    "d = special.cosdg(90)\n",
    "print(d)"
   ]
  },
  {
   "cell_type": "markdown",
   "id": "3491e1bf",
   "metadata": {},
   "source": [
    "# Integration Function"
   ]
  },
  {
   "cell_type": "code",
   "execution_count": 14,
   "id": "0b0bc5bd",
   "metadata": {},
   "outputs": [
    {
     "name": "stdout",
     "output_type": "stream",
     "text": [
      "Help on function quad in module scipy.integrate.quadpack:\n",
      "\n",
      "quad(func, a, b, args=(), full_output=0, epsabs=1.49e-08, epsrel=1.49e-08, limit=50, points=None, weight=None, wvar=None, wopts=None, maxp1=50, limlst=50)\n",
      "    Compute a definite integral.\n",
      "    \n",
      "    Integrate func from `a` to `b` (possibly infinite interval) using a\n",
      "    technique from the Fortran library QUADPACK.\n",
      "    \n",
      "    Parameters\n",
      "    ----------\n",
      "    func : {function, scipy.LowLevelCallable}\n",
      "        A Python function or method to integrate. If `func` takes many\n",
      "        arguments, it is integrated along the axis corresponding to the\n",
      "        first argument.\n",
      "    \n",
      "        If the user desires improved integration performance, then `f` may\n",
      "        be a `scipy.LowLevelCallable` with one of the signatures::\n",
      "    \n",
      "            double func(double x)\n",
      "            double func(double x, void *user_data)\n",
      "            double func(int n, double *xx)\n",
      "            double func(int n, double *xx, void *user_data)\n",
      "    \n",
      "        The ``user_data`` is the data contained in the `scipy.LowLevelCallable`.\n",
      "        In the call forms with ``xx``,  ``n`` is the length of the ``xx``\n",
      "        array which contains ``xx[0] == x`` and the rest of the items are\n",
      "        numbers contained in the ``args`` argument of quad.\n",
      "    \n",
      "        In addition, certain ctypes call signatures are supported for\n",
      "        backward compatibility, but those should not be used in new code.\n",
      "    a : float\n",
      "        Lower limit of integration (use -numpy.inf for -infinity).\n",
      "    b : float\n",
      "        Upper limit of integration (use numpy.inf for +infinity).\n",
      "    args : tuple, optional\n",
      "        Extra arguments to pass to `func`.\n",
      "    full_output : int, optional\n",
      "        Non-zero to return a dictionary of integration information.\n",
      "        If non-zero, warning messages are also suppressed and the\n",
      "        message is appended to the output tuple.\n",
      "    \n",
      "    Returns\n",
      "    -------\n",
      "    y : float\n",
      "        The integral of func from `a` to `b`.\n",
      "    abserr : float\n",
      "        An estimate of the absolute error in the result.\n",
      "    infodict : dict\n",
      "        A dictionary containing additional information.\n",
      "        Run scipy.integrate.quad_explain() for more information.\n",
      "    message\n",
      "        A convergence message.\n",
      "    explain\n",
      "        Appended only with 'cos' or 'sin' weighting and infinite\n",
      "        integration limits, it contains an explanation of the codes in\n",
      "        infodict['ierlst']\n",
      "    \n",
      "    Other Parameters\n",
      "    ----------------\n",
      "    epsabs : float or int, optional\n",
      "        Absolute error tolerance. Default is 1.49e-8. `quad` tries to obtain\n",
      "        an accuracy of ``abs(i-result) <= max(epsabs, epsrel*abs(i))``\n",
      "        where ``i`` = integral of `func` from `a` to `b`, and ``result`` is the\n",
      "        numerical approximation. See `epsrel` below.\n",
      "    epsrel : float or int, optional\n",
      "        Relative error tolerance. Default is 1.49e-8.\n",
      "        If ``epsabs <= 0``, `epsrel` must be greater than both 5e-29\n",
      "        and ``50 * (machine epsilon)``. See `epsabs` above.\n",
      "    limit : float or int, optional\n",
      "        An upper bound on the number of subintervals used in the adaptive\n",
      "        algorithm.\n",
      "    points : (sequence of floats,ints), optional\n",
      "        A sequence of break points in the bounded integration interval\n",
      "        where local difficulties of the integrand may occur (e.g.,\n",
      "        singularities, discontinuities). The sequence does not have\n",
      "        to be sorted. Note that this option cannot be used in conjunction\n",
      "        with ``weight``.\n",
      "    weight : float or int, optional\n",
      "        String indicating weighting function. Full explanation for this\n",
      "        and the remaining arguments can be found below.\n",
      "    wvar : optional\n",
      "        Variables for use with weighting functions.\n",
      "    wopts : optional\n",
      "        Optional input for reusing Chebyshev moments.\n",
      "    maxp1 : float or int, optional\n",
      "        An upper bound on the number of Chebyshev moments.\n",
      "    limlst : int, optional\n",
      "        Upper bound on the number of cycles (>=3) for use with a sinusoidal\n",
      "        weighting and an infinite end-point.\n",
      "    \n",
      "    See Also\n",
      "    --------\n",
      "    dblquad : double integral\n",
      "    tplquad : triple integral\n",
      "    nquad : n-dimensional integrals (uses `quad` recursively)\n",
      "    fixed_quad : fixed-order Gaussian quadrature\n",
      "    quadrature : adaptive Gaussian quadrature\n",
      "    odeint : ODE integrator\n",
      "    ode : ODE integrator\n",
      "    simpson : integrator for sampled data\n",
      "    romb : integrator for sampled data\n",
      "    scipy.special : for coefficients and roots of orthogonal polynomials\n",
      "    \n",
      "    Notes\n",
      "    -----\n",
      "    \n",
      "    **Extra information for quad() inputs and outputs**\n",
      "    \n",
      "    If full_output is non-zero, then the third output argument\n",
      "    (infodict) is a dictionary with entries as tabulated below. For\n",
      "    infinite limits, the range is transformed to (0,1) and the\n",
      "    optional outputs are given with respect to this transformed range.\n",
      "    Let M be the input argument limit and let K be infodict['last'].\n",
      "    The entries are:\n",
      "    \n",
      "    'neval'\n",
      "        The number of function evaluations.\n",
      "    'last'\n",
      "        The number, K, of subintervals produced in the subdivision process.\n",
      "    'alist'\n",
      "        A rank-1 array of length M, the first K elements of which are the\n",
      "        left end points of the subintervals in the partition of the\n",
      "        integration range.\n",
      "    'blist'\n",
      "        A rank-1 array of length M, the first K elements of which are the\n",
      "        right end points of the subintervals.\n",
      "    'rlist'\n",
      "        A rank-1 array of length M, the first K elements of which are the\n",
      "        integral approximations on the subintervals.\n",
      "    'elist'\n",
      "        A rank-1 array of length M, the first K elements of which are the\n",
      "        moduli of the absolute error estimates on the subintervals.\n",
      "    'iord'\n",
      "        A rank-1 integer array of length M, the first L elements of\n",
      "        which are pointers to the error estimates over the subintervals\n",
      "        with ``L=K`` if ``K<=M/2+2`` or ``L=M+1-K`` otherwise. Let I be the\n",
      "        sequence ``infodict['iord']`` and let E be the sequence\n",
      "        ``infodict['elist']``.  Then ``E[I[1]], ..., E[I[L]]`` forms a\n",
      "        decreasing sequence.\n",
      "    \n",
      "    If the input argument points is provided (i.e., it is not None),\n",
      "    the following additional outputs are placed in the output\n",
      "    dictionary. Assume the points sequence is of length P.\n",
      "    \n",
      "    'pts'\n",
      "        A rank-1 array of length P+2 containing the integration limits\n",
      "        and the break points of the intervals in ascending order.\n",
      "        This is an array giving the subintervals over which integration\n",
      "        will occur.\n",
      "    'level'\n",
      "        A rank-1 integer array of length M (=limit), containing the\n",
      "        subdivision levels of the subintervals, i.e., if (aa,bb) is a\n",
      "        subinterval of ``(pts[1], pts[2])`` where ``pts[0]`` and ``pts[2]``\n",
      "        are adjacent elements of ``infodict['pts']``, then (aa,bb) has level l\n",
      "        if ``|bb-aa| = |pts[2]-pts[1]| * 2**(-l)``.\n",
      "    'ndin'\n",
      "        A rank-1 integer array of length P+2. After the first integration\n",
      "        over the intervals (pts[1], pts[2]), the error estimates over some\n",
      "        of the intervals may have been increased artificially in order to\n",
      "        put their subdivision forward. This array has ones in slots\n",
      "        corresponding to the subintervals for which this happens.\n",
      "    \n",
      "    **Weighting the integrand**\n",
      "    \n",
      "    The input variables, *weight* and *wvar*, are used to weight the\n",
      "    integrand by a select list of functions. Different integration\n",
      "    methods are used to compute the integral with these weighting\n",
      "    functions, and these do not support specifying break points. The\n",
      "    possible values of weight and the corresponding weighting functions are.\n",
      "    \n",
      "    ==========  ===================================   =====================\n",
      "    ``weight``  Weight function used                  ``wvar``\n",
      "    ==========  ===================================   =====================\n",
      "    'cos'       cos(w*x)                              wvar = w\n",
      "    'sin'       sin(w*x)                              wvar = w\n",
      "    'alg'       g(x) = ((x-a)**alpha)*((b-x)**beta)   wvar = (alpha, beta)\n",
      "    'alg-loga'  g(x)*log(x-a)                         wvar = (alpha, beta)\n",
      "    'alg-logb'  g(x)*log(b-x)                         wvar = (alpha, beta)\n",
      "    'alg-log'   g(x)*log(x-a)*log(b-x)                wvar = (alpha, beta)\n",
      "    'cauchy'    1/(x-c)                               wvar = c\n",
      "    ==========  ===================================   =====================\n",
      "    \n",
      "    wvar holds the parameter w, (alpha, beta), or c depending on the weight\n",
      "    selected. In these expressions, a and b are the integration limits.\n",
      "    \n",
      "    For the 'cos' and 'sin' weighting, additional inputs and outputs are\n",
      "    available.\n",
      "    \n",
      "    For finite integration limits, the integration is performed using a\n",
      "    Clenshaw-Curtis method which uses Chebyshev moments. For repeated\n",
      "    calculations, these moments are saved in the output dictionary:\n",
      "    \n",
      "    'momcom'\n",
      "        The maximum level of Chebyshev moments that have been computed,\n",
      "        i.e., if ``M_c`` is ``infodict['momcom']`` then the moments have been\n",
      "        computed for intervals of length ``|b-a| * 2**(-l)``,\n",
      "        ``l=0,1,...,M_c``.\n",
      "    'nnlog'\n",
      "        A rank-1 integer array of length M(=limit), containing the\n",
      "        subdivision levels of the subintervals, i.e., an element of this\n",
      "        array is equal to l if the corresponding subinterval is\n",
      "        ``|b-a|* 2**(-l)``.\n",
      "    'chebmo'\n",
      "        A rank-2 array of shape (25, maxp1) containing the computed\n",
      "        Chebyshev moments. These can be passed on to an integration\n",
      "        over the same interval by passing this array as the second\n",
      "        element of the sequence wopts and passing infodict['momcom'] as\n",
      "        the first element.\n",
      "    \n",
      "    If one of the integration limits is infinite, then a Fourier integral is\n",
      "    computed (assuming w neq 0). If full_output is 1 and a numerical error\n",
      "    is encountered, besides the error message attached to the output tuple,\n",
      "    a dictionary is also appended to the output tuple which translates the\n",
      "    error codes in the array ``info['ierlst']`` to English messages. The\n",
      "    output information dictionary contains the following entries instead of\n",
      "    'last', 'alist', 'blist', 'rlist', and 'elist':\n",
      "    \n",
      "    'lst'\n",
      "        The number of subintervals needed for the integration (call it ``K_f``).\n",
      "    'rslst'\n",
      "        A rank-1 array of length M_f=limlst, whose first ``K_f`` elements\n",
      "        contain the integral contribution over the interval\n",
      "        ``(a+(k-1)c, a+kc)`` where ``c = (2*floor(|w|) + 1) * pi / |w|``\n",
      "        and ``k=1,2,...,K_f``.\n",
      "    'erlst'\n",
      "        A rank-1 array of length ``M_f`` containing the error estimate\n",
      "        corresponding to the interval in the same position in\n",
      "        ``infodict['rslist']``.\n",
      "    'ierlst'\n",
      "        A rank-1 integer array of length ``M_f`` containing an error flag\n",
      "        corresponding to the interval in the same position in\n",
      "        ``infodict['rslist']``.  See the explanation dictionary (last entry\n",
      "        in the output tuple) for the meaning of the codes.\n",
      "    \n",
      "    Examples\n",
      "    --------\n",
      "    Calculate :math:`\\int^4_0 x^2 dx` and compare with an analytic result\n",
      "    \n",
      "    >>> from scipy import integrate\n",
      "    >>> x2 = lambda x: x**2\n",
      "    >>> integrate.quad(x2, 0, 4)\n",
      "    (21.333333333333332, 2.3684757858670003e-13)\n",
      "    >>> print(4**3 / 3.)  # analytical result\n",
      "    21.3333333333\n",
      "    \n",
      "    Calculate :math:`\\int^\\infty_0 e^{-x} dx`\n",
      "    \n",
      "    >>> invexp = lambda x: np.exp(-x)\n",
      "    >>> integrate.quad(invexp, 0, np.inf)\n",
      "    (1.0, 5.842605999138044e-11)\n",
      "    \n",
      "    >>> f = lambda x,a : a*x\n",
      "    >>> y, err = integrate.quad(f, 0, 1, args=(1,))\n",
      "    >>> y\n",
      "    0.5\n",
      "    >>> y, err = integrate.quad(f, 0, 1, args=(3,))\n",
      "    >>> y\n",
      "    1.5\n",
      "    \n",
      "    Calculate :math:`\\int^1_0 x^2 + y^2 dx` with ctypes, holding\n",
      "    y parameter as 1::\n",
      "    \n",
      "        testlib.c =>\n",
      "            double func(int n, double args[n]){\n",
      "                return args[0]*args[0] + args[1]*args[1];}\n",
      "        compile to library testlib.*\n",
      "    \n",
      "    ::\n",
      "    \n",
      "       from scipy import integrate\n",
      "       import ctypes\n",
      "       lib = ctypes.CDLL('/home/.../testlib.*') #use absolute path\n",
      "       lib.func.restype = ctypes.c_double\n",
      "       lib.func.argtypes = (ctypes.c_int,ctypes.c_double)\n",
      "       integrate.quad(lib.func,0,1,(1))\n",
      "       #(1.3333333333333333, 1.4802973661668752e-14)\n",
      "       print((1.0**3/3.0 + 1.0) - (0.0**3/3.0 + 0.0)) #Analytic result\n",
      "       # 1.3333333333333333\n",
      "    \n",
      "    Be aware that pulse shapes and other sharp features as compared to the\n",
      "    size of the integration interval may not be integrated correctly using\n",
      "    this method. A simplified example of this limitation is integrating a\n",
      "    y-axis reflected step function with many zero values within the integrals\n",
      "    bounds.\n",
      "    \n",
      "    >>> y = lambda x: 1 if x<=0 else 0\n",
      "    >>> integrate.quad(y, -1, 1)\n",
      "    (1.0, 1.1102230246251565e-14)\n",
      "    >>> integrate.quad(y, -1, 100)\n",
      "    (1.0000000002199108, 1.0189464580163188e-08)\n",
      "    >>> integrate.quad(y, -1, 10000)\n",
      "    (0.0, 0.0)\n",
      "\n"
     ]
    }
   ],
   "source": [
    "from scipy import integrate\n",
    "help(integrate.quad)"
   ]
  },
  {
   "cell_type": "code",
   "execution_count": 15,
   "id": "e599e392",
   "metadata": {},
   "outputs": [
    {
     "name": "stdout",
     "output_type": "stream",
     "text": [
      "(3.9086503371292665, 4.3394735994897923e-14)\n"
     ]
    }
   ],
   "source": [
    "i = scipy.integrate.quad(lambda x:special.exp10(x),0,1)\n",
    "print(i)"
   ]
  },
  {
   "cell_type": "markdown",
   "id": "4ddef617",
   "metadata": {},
   "source": [
    "# Fourier Transformation"
   ]
  },
  {
   "cell_type": "code",
   "execution_count": 18,
   "id": "593786e3",
   "metadata": {},
   "outputs": [
    {
     "name": "stdout",
     "output_type": "stream",
     "text": [
      "[10.-0.j -2.+2.j -2.-0.j -2.-2.j]\n"
     ]
    }
   ],
   "source": [
    "#fourier transform\n",
    "from scipy.fftpack import fft,ifft\n",
    "import numpy as np\n",
    "x = np.array([1,2,3,4])\n",
    "y = fft(x)\n",
    "print(y)"
   ]
  },
  {
   "cell_type": "code",
   "execution_count": 19,
   "id": "83c0403f",
   "metadata": {},
   "outputs": [
    {
     "name": "stdout",
     "output_type": "stream",
     "text": [
      "[ 2.5-0.j  -0.5-0.5j -0.5-0.j  -0.5+0.5j]\n"
     ]
    }
   ],
   "source": [
    "#invers fourier transform\n",
    "from scipy.fftpack import fft,ifft\n",
    "import numpy as np\n",
    "x = np.array([1,2,3,4])\n",
    "y = ifft(x)\n",
    "print(y)"
   ]
  },
  {
   "cell_type": "markdown",
   "id": "672c5c71",
   "metadata": {},
   "source": [
    "# Linear Algebra"
   ]
  },
  {
   "cell_type": "code",
   "execution_count": 20,
   "id": "2fd822e1",
   "metadata": {},
   "outputs": [
    {
     "name": "stdout",
     "output_type": "stream",
     "text": [
      "[[-2.   1. ]\n",
      " [ 1.5 -0.5]]\n"
     ]
    }
   ],
   "source": [
    "from scipy import linalg\n",
    "a = np.array([[1,2],[3,4]])\n",
    "b = linalg.inv(a)\n",
    "print(b)"
   ]
  },
  {
   "cell_type": "markdown",
   "id": "f7513513",
   "metadata": {},
   "source": [
    "# Pandas"
   ]
  },
  {
   "cell_type": "markdown",
   "id": "75bbbd36",
   "metadata": {},
   "source": [
    "# Slicing"
   ]
  },
  {
   "cell_type": "code",
   "execution_count": 24,
   "id": "006808f8",
   "metadata": {},
   "outputs": [
    {
     "name": "stdout",
     "output_type": "stream",
     "text": [
      "   Day  Visitors  Bounce_Rate\n",
      "0    1      1000           20\n",
      "1    2       700           20\n",
      "2    3      6000           25\n",
      "3    4      1200           15\n",
      "4    5       550           10\n",
      "5    6       450           34\n",
      "   Day  Visitors  Bounce_Rate\n",
      "0    1      1000           20\n",
      "1    2       700           20\n",
      "   Day  Visitors  Bounce_Rate\n",
      "4    5       550           10\n",
      "5    6       450           34\n"
     ]
    }
   ],
   "source": [
    "import pandas as pd\n",
    "XYZ_web = {'Day': [1,2,3,4,5,6], 'Visitors':[1000,700,6000,1200,550,450], 'Bounce_Rate':[20,20,25,15,10,34]}\n",
    "df = pd.DataFrame(XYZ_web)\n",
    "print(df)\n",
    "print(df.head(2))\n",
    "print(df.tail(2))"
   ]
  },
  {
   "cell_type": "markdown",
   "id": "0e8ad777",
   "metadata": {},
   "source": [
    "# Statistics"
   ]
  },
  {
   "cell_type": "code",
   "execution_count": 1,
   "id": "18215052",
   "metadata": {},
   "outputs": [
    {
     "name": "stdout",
     "output_type": "stream",
     "text": [
      "2.3333333333333335\n"
     ]
    }
   ],
   "source": [
    "from statistics import mean\n",
    "print(mean([1,2,2,2,1,3,4,1,5]))"
   ]
  },
  {
   "cell_type": "code",
   "execution_count": 5,
   "id": "5f9090a1",
   "metadata": {},
   "outputs": [
    {
     "name": "stdout",
     "output_type": "stream",
     "text": [
      "1\n"
     ]
    }
   ],
   "source": [
    "from statistics import median\n",
    "print(median([1,1,1,2,2]))"
   ]
  },
  {
   "cell_type": "code",
   "execution_count": 6,
   "id": "bcaab9a6",
   "metadata": {},
   "outputs": [
    {
     "name": "stdout",
     "output_type": "stream",
     "text": [
      "1\n"
     ]
    }
   ],
   "source": [
    "from statistics import mode\n",
    "print(mode([1,2,2,2,1,3,4,1,5]))"
   ]
  },
  {
   "cell_type": "code",
   "execution_count": 7,
   "id": "0c6e991a",
   "metadata": {},
   "outputs": [
    {
     "name": "stdout",
     "output_type": "stream",
     "text": [
      "2.0\n"
     ]
    }
   ],
   "source": [
    "from statistics import variance\n",
    "print(variance([1,2,2,2,1,3,4,1,5]))"
   ]
  },
  {
   "cell_type": "markdown",
   "id": "ca63bde5",
   "metadata": {},
   "source": [
    "# Matplotlib"
   ]
  },
  {
   "cell_type": "code",
   "execution_count": 2,
   "id": "76bf7190",
   "metadata": {},
   "outputs": [
    {
     "data": {
      "image/png": "[encoded data removed]",
      "text/plain": [
       "<Figure size 432x288 with 1 Axes>"
      ]
     },
     "metadata": {
      "needs_background": "light"
     },
     "output_type": "display_data"
    }
   ],
   "source": [
    "from matplotlib import pyplot as plt\n",
    "plt.plot([1,2,3],[4,5,1])\n",
    "plt.show()"
   ]
  },
  {
   "cell_type": "code",
   "execution_count": 4,
   "id": "cff8c40c",
   "metadata": {},
   "outputs": [
    {
     "data": {
      "image/png": "[encoded data removed]",
      "text/plain": [
       "<Figure size 432x288 with 1 Axes>"
      ]
     },
     "metadata": {},
     "output_type": "display_data"
    }
   ],
   "source": [
    "from matplotlib import pyplot as plt\n",
    "x = [5,8,10]\n",
    "y = [12,16,6]\n",
    "plt.plot(x,y)\n",
    "plt.title('info')\n",
    "plt.ylabel('Y axis')\n",
    "plt.xlabel('X axis')\n",
    "plt.show()"
   ]
  },
  {
   "cell_type": "code",
   "execution_count": 5,
   "id": "62a409f5",
   "metadata": {},
   "outputs": [
    {
     "ename": "ValueError",
     "evalue": "Invalid RGBA argument: 'K'",
     "output_type": "error",
     "traceback": [
      "\u001b[1;31m---------------------------------------------------------------------------\u001b[0m",
      "\u001b[1;31mValueError\u001b[0m                                Traceback (most recent call last)",
      "\u001b[1;32m~\\anaconda3\\lib\\site-packages\\IPython\\core\\formatters.py\u001b[0m in \u001b[0;36m__call__\u001b[1;34m(self, obj)\u001b[0m\n\u001b[0;32m    339\u001b[0m                 \u001b[1;32mpass\u001b[0m\u001b[1;33m\u001b[0m\u001b[1;33m\u001b[0m\u001b[0m\n\u001b[0;32m    340\u001b[0m             \u001b[1;32melse\u001b[0m\u001b[1;33m:\u001b[0m\u001b[1;33m\u001b[0m\u001b[1;33m\u001b[0m\u001b[0m\n\u001b[1;32m--> 341\u001b[1;33m                 \u001b[1;32mreturn\u001b[0m \u001b[0mprinter\u001b[0m\u001b[1;33m(\u001b[0m\u001b[0mobj\u001b[0m\u001b[1;33m)\u001b[0m\u001b[1;33m\u001b[0m\u001b[1;33m\u001b[0m\u001b[0m\n\u001b[0m\u001b[0;32m    342\u001b[0m             \u001b[1;31m# Finally look for special method names\u001b[0m\u001b[1;33m\u001b[0m\u001b[1;33m\u001b[0m\u001b[1;33m\u001b[0m\u001b[0m\n\u001b[0;32m    343\u001b[0m             \u001b[0mmethod\u001b[0m \u001b[1;33m=\u001b[0m \u001b[0mget_real_method\u001b[0m\u001b[1;33m(\u001b[0m\u001b[0mobj\u001b[0m\u001b[1;33m,\u001b[0m \u001b[0mself\u001b[0m\u001b[1;33m.\u001b[0m\u001b[0mprint_method\u001b[0m\u001b[1;33m)\u001b[0m\u001b[1;33m\u001b[0m\u001b[1;33m\u001b[0m\u001b[0m\n",
      "\u001b[1;32m~\\anaconda3\\lib\\site-packages\\IPython\\core\\pylabtools.py\u001b[0m in \u001b[0;36m<lambda>\u001b[1;34m(fig)\u001b[0m\n\u001b[0;32m    246\u001b[0m \u001b[1;33m\u001b[0m\u001b[0m\n\u001b[0;32m    247\u001b[0m     \u001b[1;32mif\u001b[0m \u001b[1;34m'png'\u001b[0m \u001b[1;32min\u001b[0m \u001b[0mformats\u001b[0m\u001b[1;33m:\u001b[0m\u001b[1;33m\u001b[0m\u001b[1;33m\u001b[0m\u001b[0m\n\u001b[1;32m--> 248\u001b[1;33m         \u001b[0mpng_formatter\u001b[0m\u001b[1;33m.\u001b[0m\u001b[0mfor_type\u001b[0m\u001b[1;33m(\u001b[0m\u001b[0mFigure\u001b[0m\u001b[1;33m,\u001b[0m \u001b[1;32mlambda\u001b[0m \u001b[0mfig\u001b[0m\u001b[1;33m:\u001b[0m \u001b[0mprint_figure\u001b[0m\u001b[1;33m(\u001b[0m\u001b[0mfig\u001b[0m\u001b[1;33m,\u001b[0m \u001b[1;34m'png'\u001b[0m\u001b[1;33m,\u001b[0m \u001b[1;33m**\u001b[0m\u001b[0mkwargs\u001b[0m\u001b[1;33m)\u001b[0m\u001b[1;33m)\u001b[0m\u001b[1;33m\u001b[0m\u001b[1;33m\u001b[0m\u001b[0m\n\u001b[0m\u001b[0;32m    249\u001b[0m     \u001b[1;32mif\u001b[0m \u001b[1;34m'retina'\u001b[0m \u001b[1;32min\u001b[0m \u001b[0mformats\u001b[0m \u001b[1;32mor\u001b[0m \u001b[1;34m'png2x'\u001b[0m \u001b[1;32min\u001b[0m \u001b[0mformats\u001b[0m\u001b[1;33m:\u001b[0m\u001b[1;33m\u001b[0m\u001b[1;33m\u001b[0m\u001b[0m\n\u001b[0;32m    250\u001b[0m         \u001b[0mpng_formatter\u001b[0m\u001b[1;33m.\u001b[0m\u001b[0mfor_type\u001b[0m\u001b[1;33m(\u001b[0m\u001b[0mFigure\u001b[0m\u001b[1;33m,\u001b[0m \u001b[1;32mlambda\u001b[0m \u001b[0mfig\u001b[0m\u001b[1;33m:\u001b[0m \u001b[0mretina_figure\u001b[0m\u001b[1;33m(\u001b[0m\u001b[0mfig\u001b[0m\u001b[1;33m,\u001b[0m \u001b[1;33m**\u001b[0m\u001b[0mkwargs\u001b[0m\u001b[1;33m)\u001b[0m\u001b[1;33m)\u001b[0m\u001b[1;33m\u001b[0m\u001b[1;33m\u001b[0m\u001b[0m\n",
      "\u001b[1;32m~\\anaconda3\\lib\\site-packages\\IPython\\core\\pylabtools.py\u001b[0m in \u001b[0;36mprint_figure\u001b[1;34m(fig, fmt, bbox_inches, **kwargs)\u001b[0m\n\u001b[0;32m    130\u001b[0m         \u001b[0mFigureCanvasBase\u001b[0m\u001b[1;33m(\u001b[0m\u001b[0mfig\u001b[0m\u001b[1;33m)\u001b[0m\u001b[1;33m\u001b[0m\u001b[1;33m\u001b[0m\u001b[0m\n\u001b[0;32m    131\u001b[0m \u001b[1;33m\u001b[0m\u001b[0m\n\u001b[1;32m--> 132\u001b[1;33m     \u001b[0mfig\u001b[0m\u001b[1;33m.\u001b[0m\u001b[0mcanvas\u001b[0m\u001b[1;33m.\u001b[0m\u001b[0mprint_figure\u001b[0m\u001b[1;33m(\u001b[0m\u001b[0mbytes_io\u001b[0m\u001b[1;33m,\u001b[0m \u001b[1;33m**\u001b[0m\u001b[0mkw\u001b[0m\u001b[1;33m)\u001b[0m\u001b[1;33m\u001b[0m\u001b[1;33m\u001b[0m\u001b[0m\n\u001b[0m\u001b[0;32m    133\u001b[0m     \u001b[0mdata\u001b[0m \u001b[1;33m=\u001b[0m \u001b[0mbytes_io\u001b[0m\u001b[1;33m.\u001b[0m\u001b[0mgetvalue\u001b[0m\u001b[1;33m(\u001b[0m\u001b[1;33m)\u001b[0m\u001b[1;33m\u001b[0m\u001b[1;33m\u001b[0m\u001b[0m\n\u001b[0;32m    134\u001b[0m     \u001b[1;32mif\u001b[0m \u001b[0mfmt\u001b[0m \u001b[1;33m==\u001b[0m \u001b[1;34m'svg'\u001b[0m\u001b[1;33m:\u001b[0m\u001b[1;33m\u001b[0m\u001b[1;33m\u001b[0m\u001b[0m\n",
      "\u001b[1;32m~\\anaconda3\\lib\\site-packages\\matplotlib\\backend_bases.py\u001b[0m in \u001b[0;36mprint_figure\u001b[1;34m(self, filename, dpi, facecolor, edgecolor, orientation, format, bbox_inches, pad_inches, bbox_extra_artists, backend, **kwargs)\u001b[0m\n\u001b[0;32m   2191\u001b[0m                            else suppress())\n\u001b[0;32m   2192\u001b[0m                     \u001b[1;32mwith\u001b[0m \u001b[0mctx\u001b[0m\u001b[1;33m:\u001b[0m\u001b[1;33m\u001b[0m\u001b[1;33m\u001b[0m\u001b[0m\n\u001b[1;32m-> 2193\u001b[1;33m                         \u001b[0mself\u001b[0m\u001b[1;33m.\u001b[0m\u001b[0mfigure\u001b[0m\u001b[1;33m.\u001b[0m\u001b[0mdraw\u001b[0m\u001b[1;33m(\u001b[0m\u001b[0mrenderer\u001b[0m\u001b[1;33m)\u001b[0m\u001b[1;33m\u001b[0m\u001b[1;33m\u001b[0m\u001b[0m\n\u001b[0m\u001b[0;32m   2194\u001b[0m \u001b[1;33m\u001b[0m\u001b[0m\n\u001b[0;32m   2195\u001b[0m                     bbox_inches = self.figure.get_tightbbox(\n",
      "\u001b[1;32m~\\anaconda3\\lib\\site-packages\\matplotlib\\artist.py\u001b[0m in \u001b[0;36mdraw_wrapper\u001b[1;34m(artist, renderer, *args, **kwargs)\u001b[0m\n\u001b[0;32m     39\u001b[0m                 \u001b[0mrenderer\u001b[0m\u001b[1;33m.\u001b[0m\u001b[0mstart_filter\u001b[0m\u001b[1;33m(\u001b[0m\u001b[1;33m)\u001b[0m\u001b[1;33m\u001b[0m\u001b[1;33m\u001b[0m\u001b[0m\n\u001b[0;32m     40\u001b[0m \u001b[1;33m\u001b[0m\u001b[0m\n\u001b[1;32m---> 41\u001b[1;33m             \u001b[1;32mreturn\u001b[0m \u001b[0mdraw\u001b[0m\u001b[1;33m(\u001b[0m\u001b[0martist\u001b[0m\u001b[1;33m,\u001b[0m \u001b[0mrenderer\u001b[0m\u001b[1;33m,\u001b[0m \u001b[1;33m*\u001b[0m\u001b[0margs\u001b[0m\u001b[1;33m,\u001b[0m \u001b[1;33m**\u001b[0m\u001b[0mkwargs\u001b[0m\u001b[1;33m)\u001b[0m\u001b[1;33m\u001b[0m\u001b[1;33m\u001b[0m\u001b[0m\n\u001b[0m\u001b[0;32m     42\u001b[0m         \u001b[1;32mfinally\u001b[0m\u001b[1;33m:\u001b[0m\u001b[1;33m\u001b[0m\u001b[1;33m\u001b[0m\u001b[0m\n\u001b[0;32m     43\u001b[0m             \u001b[1;32mif\u001b[0m \u001b[0martist\u001b[0m\u001b[1;33m.\u001b[0m\u001b[0mget_agg_filter\u001b[0m\u001b[1;33m(\u001b[0m\u001b[1;33m)\u001b[0m \u001b[1;32mis\u001b[0m \u001b[1;32mnot\u001b[0m \u001b[1;32mNone\u001b[0m\u001b[1;33m:\u001b[0m\u001b[1;33m\u001b[0m\u001b[1;33m\u001b[0m\u001b[0m\n",
      "\u001b[1;32m~\\anaconda3\\lib\\site-packages\\matplotlib\\figure.py\u001b[0m in \u001b[0;36mdraw\u001b[1;34m(self, renderer)\u001b[0m\n\u001b[0;32m   1861\u001b[0m \u001b[1;33m\u001b[0m\u001b[0m\n\u001b[0;32m   1862\u001b[0m             \u001b[0mself\u001b[0m\u001b[1;33m.\u001b[0m\u001b[0mpatch\u001b[0m\u001b[1;33m.\u001b[0m\u001b[0mdraw\u001b[0m\u001b[1;33m(\u001b[0m\u001b[0mrenderer\u001b[0m\u001b[1;33m)\u001b[0m\u001b[1;33m\u001b[0m\u001b[1;33m\u001b[0m\u001b[0m\n\u001b[1;32m-> 1863\u001b[1;33m             mimage._draw_list_compositing_images(\n\u001b[0m\u001b[0;32m   1864\u001b[0m                 renderer, self, artists, self.suppressComposite)\n\u001b[0;32m   1865\u001b[0m \u001b[1;33m\u001b[0m\u001b[0m\n",
      "\u001b[1;32m~\\anaconda3\\lib\\site-packages\\matplotlib\\image.py\u001b[0m in \u001b[0;36m_draw_list_compositing_images\u001b[1;34m(renderer, parent, artists, suppress_composite)\u001b[0m\n\u001b[0;32m    129\u001b[0m     \u001b[1;32mif\u001b[0m \u001b[0mnot_composite\u001b[0m \u001b[1;32mor\u001b[0m \u001b[1;32mnot\u001b[0m \u001b[0mhas_images\u001b[0m\u001b[1;33m:\u001b[0m\u001b[1;33m\u001b[0m\u001b[1;33m\u001b[0m\u001b[0m\n\u001b[0;32m    130\u001b[0m         \u001b[1;32mfor\u001b[0m \u001b[0ma\u001b[0m \u001b[1;32min\u001b[0m \u001b[0martists\u001b[0m\u001b[1;33m:\u001b[0m\u001b[1;33m\u001b[0m\u001b[1;33m\u001b[0m\u001b[0m\n\u001b[1;32m--> 131\u001b[1;33m             \u001b[0ma\u001b[0m\u001b[1;33m.\u001b[0m\u001b[0mdraw\u001b[0m\u001b[1;33m(\u001b[0m\u001b[0mrenderer\u001b[0m\u001b[1;33m)\u001b[0m\u001b[1;33m\u001b[0m\u001b[1;33m\u001b[0m\u001b[0m\n\u001b[0m\u001b[0;32m    132\u001b[0m     \u001b[1;32melse\u001b[0m\u001b[1;33m:\u001b[0m\u001b[1;33m\u001b[0m\u001b[1;33m\u001b[0m\u001b[0m\n\u001b[0;32m    133\u001b[0m         \u001b[1;31m# Composite any adjacent images together\u001b[0m\u001b[1;33m\u001b[0m\u001b[1;33m\u001b[0m\u001b[1;33m\u001b[0m\u001b[0m\n",
      "\u001b[1;32m~\\anaconda3\\lib\\site-packages\\matplotlib\\artist.py\u001b[0m in \u001b[0;36mdraw_wrapper\u001b[1;34m(artist, renderer, *args, **kwargs)\u001b[0m\n\u001b[0;32m     39\u001b[0m                 \u001b[0mrenderer\u001b[0m\u001b[1;33m.\u001b[0m\u001b[0mstart_filter\u001b[0m\u001b[1;33m(\u001b[0m\u001b[1;33m)\u001b[0m\u001b[1;33m\u001b[0m\u001b[1;33m\u001b[0m\u001b[0m\n\u001b[0;32m     40\u001b[0m \u001b[1;33m\u001b[0m\u001b[0m\n\u001b[1;32m---> 41\u001b[1;33m             \u001b[1;32mreturn\u001b[0m \u001b[0mdraw\u001b[0m\u001b[1;33m(\u001b[0m\u001b[0martist\u001b[0m\u001b[1;33m,\u001b[0m \u001b[0mrenderer\u001b[0m\u001b[1;33m,\u001b[0m \u001b[1;33m*\u001b[0m\u001b[0margs\u001b[0m\u001b[1;33m,\u001b[0m \u001b[1;33m**\u001b[0m\u001b[0mkwargs\u001b[0m\u001b[1;33m)\u001b[0m\u001b[1;33m\u001b[0m\u001b[1;33m\u001b[0m\u001b[0m\n\u001b[0m\u001b[0;32m     42\u001b[0m         \u001b[1;32mfinally\u001b[0m\u001b[1;33m:\u001b[0m\u001b[1;33m\u001b[0m\u001b[1;33m\u001b[0m\u001b[0m\n\u001b[0;32m     43\u001b[0m             \u001b[1;32mif\u001b[0m \u001b[0martist\u001b[0m\u001b[1;33m.\u001b[0m\u001b[0mget_agg_filter\u001b[0m\u001b[1;33m(\u001b[0m\u001b[1;33m)\u001b[0m \u001b[1;32mis\u001b[0m \u001b[1;32mnot\u001b[0m \u001b[1;32mNone\u001b[0m\u001b[1;33m:\u001b[0m\u001b[1;33m\u001b[0m\u001b[1;33m\u001b[0m\u001b[0m\n",
      "\u001b[1;32m~\\anaconda3\\lib\\site-packages\\matplotlib\\cbook\\deprecation.py\u001b[0m in \u001b[0;36mwrapper\u001b[1;34m(*inner_args, **inner_kwargs)\u001b[0m\n\u001b[0;32m    409\u001b[0m                          \u001b[1;32melse\u001b[0m \u001b[0mdeprecation_addendum\u001b[0m\u001b[1;33m,\u001b[0m\u001b[1;33m\u001b[0m\u001b[1;33m\u001b[0m\u001b[0m\n\u001b[0;32m    410\u001b[0m                 **kwargs)\n\u001b[1;32m--> 411\u001b[1;33m         \u001b[1;32mreturn\u001b[0m \u001b[0mfunc\u001b[0m\u001b[1;33m(\u001b[0m\u001b[1;33m*\u001b[0m\u001b[0minner_args\u001b[0m\u001b[1;33m,\u001b[0m \u001b[1;33m**\u001b[0m\u001b[0minner_kwargs\u001b[0m\u001b[1;33m)\u001b[0m\u001b[1;33m\u001b[0m\u001b[1;33m\u001b[0m\u001b[0m\n\u001b[0m\u001b[0;32m    412\u001b[0m \u001b[1;33m\u001b[0m\u001b[0m\n\u001b[0;32m    413\u001b[0m     \u001b[1;32mreturn\u001b[0m \u001b[0mwrapper\u001b[0m\u001b[1;33m\u001b[0m\u001b[1;33m\u001b[0m\u001b[0m\n",
      "\u001b[1;32m~\\anaconda3\\lib\\site-packages\\matplotlib\\axes\\_base.py\u001b[0m in \u001b[0;36mdraw\u001b[1;34m(self, renderer, inframe)\u001b[0m\n\u001b[0;32m   2745\u001b[0m             \u001b[0mrenderer\u001b[0m\u001b[1;33m.\u001b[0m\u001b[0mstop_rasterizing\u001b[0m\u001b[1;33m(\u001b[0m\u001b[1;33m)\u001b[0m\u001b[1;33m\u001b[0m\u001b[1;33m\u001b[0m\u001b[0m\n\u001b[0;32m   2746\u001b[0m \u001b[1;33m\u001b[0m\u001b[0m\n\u001b[1;32m-> 2747\u001b[1;33m         \u001b[0mmimage\u001b[0m\u001b[1;33m.\u001b[0m\u001b[0m_draw_list_compositing_images\u001b[0m\u001b[1;33m(\u001b[0m\u001b[0mrenderer\u001b[0m\u001b[1;33m,\u001b[0m \u001b[0mself\u001b[0m\u001b[1;33m,\u001b[0m \u001b[0martists\u001b[0m\u001b[1;33m)\u001b[0m\u001b[1;33m\u001b[0m\u001b[1;33m\u001b[0m\u001b[0m\n\u001b[0m\u001b[0;32m   2748\u001b[0m \u001b[1;33m\u001b[0m\u001b[0m\n\u001b[0;32m   2749\u001b[0m         \u001b[0mrenderer\u001b[0m\u001b[1;33m.\u001b[0m\u001b[0mclose_group\u001b[0m\u001b[1;33m(\u001b[0m\u001b[1;34m'axes'\u001b[0m\u001b[1;33m)\u001b[0m\u001b[1;33m\u001b[0m\u001b[1;33m\u001b[0m\u001b[0m\n",
      "\u001b[1;32m~\\anaconda3\\lib\\site-packages\\matplotlib\\image.py\u001b[0m in \u001b[0;36m_draw_list_compositing_images\u001b[1;34m(renderer, parent, artists, suppress_composite)\u001b[0m\n\u001b[0;32m    129\u001b[0m     \u001b[1;32mif\u001b[0m \u001b[0mnot_composite\u001b[0m \u001b[1;32mor\u001b[0m \u001b[1;32mnot\u001b[0m \u001b[0mhas_images\u001b[0m\u001b[1;33m:\u001b[0m\u001b[1;33m\u001b[0m\u001b[1;33m\u001b[0m\u001b[0m\n\u001b[0;32m    130\u001b[0m         \u001b[1;32mfor\u001b[0m \u001b[0ma\u001b[0m \u001b[1;32min\u001b[0m \u001b[0martists\u001b[0m\u001b[1;33m:\u001b[0m\u001b[1;33m\u001b[0m\u001b[1;33m\u001b[0m\u001b[0m\n\u001b[1;32m--> 131\u001b[1;33m             \u001b[0ma\u001b[0m\u001b[1;33m.\u001b[0m\u001b[0mdraw\u001b[0m\u001b[1;33m(\u001b[0m\u001b[0mrenderer\u001b[0m\u001b[1;33m)\u001b[0m\u001b[1;33m\u001b[0m\u001b[1;33m\u001b[0m\u001b[0m\n\u001b[0m\u001b[0;32m    132\u001b[0m     \u001b[1;32melse\u001b[0m\u001b[1;33m:\u001b[0m\u001b[1;33m\u001b[0m\u001b[1;33m\u001b[0m\u001b[0m\n\u001b[0;32m    133\u001b[0m         \u001b[1;31m# Composite any adjacent images together\u001b[0m\u001b[1;33m\u001b[0m\u001b[1;33m\u001b[0m\u001b[1;33m\u001b[0m\u001b[0m\n",
      "\u001b[1;32m~\\anaconda3\\lib\\site-packages\\matplotlib\\artist.py\u001b[0m in \u001b[0;36mdraw_wrapper\u001b[1;34m(artist, renderer, *args, **kwargs)\u001b[0m\n\u001b[0;32m     39\u001b[0m                 \u001b[0mrenderer\u001b[0m\u001b[1;33m.\u001b[0m\u001b[0mstart_filter\u001b[0m\u001b[1;33m(\u001b[0m\u001b[1;33m)\u001b[0m\u001b[1;33m\u001b[0m\u001b[1;33m\u001b[0m\u001b[0m\n\u001b[0;32m     40\u001b[0m \u001b[1;33m\u001b[0m\u001b[0m\n\u001b[1;32m---> 41\u001b[1;33m             \u001b[1;32mreturn\u001b[0m \u001b[0mdraw\u001b[0m\u001b[1;33m(\u001b[0m\u001b[0martist\u001b[0m\u001b[1;33m,\u001b[0m \u001b[0mrenderer\u001b[0m\u001b[1;33m,\u001b[0m \u001b[1;33m*\u001b[0m\u001b[0margs\u001b[0m\u001b[1;33m,\u001b[0m \u001b[1;33m**\u001b[0m\u001b[0mkwargs\u001b[0m\u001b[1;33m)\u001b[0m\u001b[1;33m\u001b[0m\u001b[1;33m\u001b[0m\u001b[0m\n\u001b[0m\u001b[0;32m     42\u001b[0m         \u001b[1;32mfinally\u001b[0m\u001b[1;33m:\u001b[0m\u001b[1;33m\u001b[0m\u001b[1;33m\u001b[0m\u001b[0m\n\u001b[0;32m     43\u001b[0m             \u001b[1;32mif\u001b[0m \u001b[0martist\u001b[0m\u001b[1;33m.\u001b[0m\u001b[0mget_agg_filter\u001b[0m\u001b[1;33m(\u001b[0m\u001b[1;33m)\u001b[0m \u001b[1;32mis\u001b[0m \u001b[1;32mnot\u001b[0m \u001b[1;32mNone\u001b[0m\u001b[1;33m:\u001b[0m\u001b[1;33m\u001b[0m\u001b[1;33m\u001b[0m\u001b[0m\n",
      "\u001b[1;32m~\\anaconda3\\lib\\site-packages\\matplotlib\\axis.py\u001b[0m in \u001b[0;36mdraw\u001b[1;34m(self, renderer, *args, **kwargs)\u001b[0m\n\u001b[0;32m   1167\u001b[0m \u001b[1;33m\u001b[0m\u001b[0m\n\u001b[0;32m   1168\u001b[0m         \u001b[1;32mfor\u001b[0m \u001b[0mtick\u001b[0m \u001b[1;32min\u001b[0m \u001b[0mticks_to_draw\u001b[0m\u001b[1;33m:\u001b[0m\u001b[1;33m\u001b[0m\u001b[1;33m\u001b[0m\u001b[0m\n\u001b[1;32m-> 1169\u001b[1;33m             \u001b[0mtick\u001b[0m\u001b[1;33m.\u001b[0m\u001b[0mdraw\u001b[0m\u001b[1;33m(\u001b[0m\u001b[0mrenderer\u001b[0m\u001b[1;33m)\u001b[0m\u001b[1;33m\u001b[0m\u001b[1;33m\u001b[0m\u001b[0m\n\u001b[0m\u001b[0;32m   1170\u001b[0m \u001b[1;33m\u001b[0m\u001b[0m\n\u001b[0;32m   1171\u001b[0m         \u001b[1;31m# scale up the axis label box to also find the neighbors, not\u001b[0m\u001b[1;33m\u001b[0m\u001b[1;33m\u001b[0m\u001b[1;33m\u001b[0m\u001b[0m\n",
      "\u001b[1;32m~\\anaconda3\\lib\\site-packages\\matplotlib\\artist.py\u001b[0m in \u001b[0;36mdraw_wrapper\u001b[1;34m(artist, renderer, *args, **kwargs)\u001b[0m\n\u001b[0;32m     39\u001b[0m                 \u001b[0mrenderer\u001b[0m\u001b[1;33m.\u001b[0m\u001b[0mstart_filter\u001b[0m\u001b[1;33m(\u001b[0m\u001b[1;33m)\u001b[0m\u001b[1;33m\u001b[0m\u001b[1;33m\u001b[0m\u001b[0m\n\u001b[0;32m     40\u001b[0m \u001b[1;33m\u001b[0m\u001b[0m\n\u001b[1;32m---> 41\u001b[1;33m             \u001b[1;32mreturn\u001b[0m \u001b[0mdraw\u001b[0m\u001b[1;33m(\u001b[0m\u001b[0martist\u001b[0m\u001b[1;33m,\u001b[0m \u001b[0mrenderer\u001b[0m\u001b[1;33m,\u001b[0m \u001b[1;33m*\u001b[0m\u001b[0margs\u001b[0m\u001b[1;33m,\u001b[0m \u001b[1;33m**\u001b[0m\u001b[0mkwargs\u001b[0m\u001b[1;33m)\u001b[0m\u001b[1;33m\u001b[0m\u001b[1;33m\u001b[0m\u001b[0m\n\u001b[0m\u001b[0;32m     42\u001b[0m         \u001b[1;32mfinally\u001b[0m\u001b[1;33m:\u001b[0m\u001b[1;33m\u001b[0m\u001b[1;33m\u001b[0m\u001b[0m\n\u001b[0;32m     43\u001b[0m             \u001b[1;32mif\u001b[0m \u001b[0martist\u001b[0m\u001b[1;33m.\u001b[0m\u001b[0mget_agg_filter\u001b[0m\u001b[1;33m(\u001b[0m\u001b[1;33m)\u001b[0m \u001b[1;32mis\u001b[0m \u001b[1;32mnot\u001b[0m \u001b[1;32mNone\u001b[0m\u001b[1;33m:\u001b[0m\u001b[1;33m\u001b[0m\u001b[1;33m\u001b[0m\u001b[0m\n",
      "\u001b[1;32m~\\anaconda3\\lib\\site-packages\\matplotlib\\axis.py\u001b[0m in \u001b[0;36mdraw\u001b[1;34m(self, renderer)\u001b[0m\n\u001b[0;32m    289\u001b[0m         for artist in [self.gridline, self.tick1line, self.tick2line,\n\u001b[0;32m    290\u001b[0m                        self.label1, self.label2]:\n\u001b[1;32m--> 291\u001b[1;33m             \u001b[0martist\u001b[0m\u001b[1;33m.\u001b[0m\u001b[0mdraw\u001b[0m\u001b[1;33m(\u001b[0m\u001b[0mrenderer\u001b[0m\u001b[1;33m)\u001b[0m\u001b[1;33m\u001b[0m\u001b[1;33m\u001b[0m\u001b[0m\n\u001b[0m\u001b[0;32m    292\u001b[0m         \u001b[0mrenderer\u001b[0m\u001b[1;33m.\u001b[0m\u001b[0mclose_group\u001b[0m\u001b[1;33m(\u001b[0m\u001b[0mself\u001b[0m\u001b[1;33m.\u001b[0m\u001b[0m__name__\u001b[0m\u001b[1;33m)\u001b[0m\u001b[1;33m\u001b[0m\u001b[1;33m\u001b[0m\u001b[0m\n\u001b[0;32m    293\u001b[0m         \u001b[0mself\u001b[0m\u001b[1;33m.\u001b[0m\u001b[0mstale\u001b[0m \u001b[1;33m=\u001b[0m \u001b[1;32mFalse\u001b[0m\u001b[1;33m\u001b[0m\u001b[1;33m\u001b[0m\u001b[0m\n",
      "\u001b[1;32m~\\anaconda3\\lib\\site-packages\\matplotlib\\artist.py\u001b[0m in \u001b[0;36mdraw_wrapper\u001b[1;34m(artist, renderer, *args, **kwargs)\u001b[0m\n\u001b[0;32m     39\u001b[0m                 \u001b[0mrenderer\u001b[0m\u001b[1;33m.\u001b[0m\u001b[0mstart_filter\u001b[0m\u001b[1;33m(\u001b[0m\u001b[1;33m)\u001b[0m\u001b[1;33m\u001b[0m\u001b[1;33m\u001b[0m\u001b[0m\n\u001b[0;32m     40\u001b[0m \u001b[1;33m\u001b[0m\u001b[0m\n\u001b[1;32m---> 41\u001b[1;33m             \u001b[1;32mreturn\u001b[0m \u001b[0mdraw\u001b[0m\u001b[1;33m(\u001b[0m\u001b[0martist\u001b[0m\u001b[1;33m,\u001b[0m \u001b[0mrenderer\u001b[0m\u001b[1;33m,\u001b[0m \u001b[1;33m*\u001b[0m\u001b[0margs\u001b[0m\u001b[1;33m,\u001b[0m \u001b[1;33m**\u001b[0m\u001b[0mkwargs\u001b[0m\u001b[1;33m)\u001b[0m\u001b[1;33m\u001b[0m\u001b[1;33m\u001b[0m\u001b[0m\n\u001b[0m\u001b[0;32m     42\u001b[0m         \u001b[1;32mfinally\u001b[0m\u001b[1;33m:\u001b[0m\u001b[1;33m\u001b[0m\u001b[1;33m\u001b[0m\u001b[0m\n\u001b[0;32m     43\u001b[0m             \u001b[1;32mif\u001b[0m \u001b[0martist\u001b[0m\u001b[1;33m.\u001b[0m\u001b[0mget_agg_filter\u001b[0m\u001b[1;33m(\u001b[0m\u001b[1;33m)\u001b[0m \u001b[1;32mis\u001b[0m \u001b[1;32mnot\u001b[0m \u001b[1;32mNone\u001b[0m\u001b[1;33m:\u001b[0m\u001b[1;33m\u001b[0m\u001b[1;33m\u001b[0m\u001b[0m\n",
      "\u001b[1;32m~\\anaconda3\\lib\\site-packages\\matplotlib\\lines.py\u001b[0m in \u001b[0;36mdraw\u001b[1;34m(self, renderer)\u001b[0m\n\u001b[0;32m    765\u001b[0m                 \u001b[0mgc\u001b[0m\u001b[1;33m.\u001b[0m\u001b[0mset_url\u001b[0m\u001b[1;33m(\u001b[0m\u001b[0mself\u001b[0m\u001b[1;33m.\u001b[0m\u001b[0mget_url\u001b[0m\u001b[1;33m(\u001b[0m\u001b[1;33m)\u001b[0m\u001b[1;33m)\u001b[0m\u001b[1;33m\u001b[0m\u001b[1;33m\u001b[0m\u001b[0m\n\u001b[0;32m    766\u001b[0m \u001b[1;33m\u001b[0m\u001b[0m\n\u001b[1;32m--> 767\u001b[1;33m                 \u001b[0mlc_rgba\u001b[0m \u001b[1;33m=\u001b[0m \u001b[0mmcolors\u001b[0m\u001b[1;33m.\u001b[0m\u001b[0mto_rgba\u001b[0m\u001b[1;33m(\u001b[0m\u001b[0mself\u001b[0m\u001b[1;33m.\u001b[0m\u001b[0m_color\u001b[0m\u001b[1;33m,\u001b[0m \u001b[0mself\u001b[0m\u001b[1;33m.\u001b[0m\u001b[0m_alpha\u001b[0m\u001b[1;33m)\u001b[0m\u001b[1;33m\u001b[0m\u001b[1;33m\u001b[0m\u001b[0m\n\u001b[0m\u001b[0;32m    768\u001b[0m                 \u001b[0mgc\u001b[0m\u001b[1;33m.\u001b[0m\u001b[0mset_foreground\u001b[0m\u001b[1;33m(\u001b[0m\u001b[0mlc_rgba\u001b[0m\u001b[1;33m,\u001b[0m \u001b[0misRGBA\u001b[0m\u001b[1;33m=\u001b[0m\u001b[1;32mTrue\u001b[0m\u001b[1;33m)\u001b[0m\u001b[1;33m\u001b[0m\u001b[1;33m\u001b[0m\u001b[0m\n\u001b[0;32m    769\u001b[0m \u001b[1;33m\u001b[0m\u001b[0m\n",
      "\u001b[1;32m~\\anaconda3\\lib\\site-packages\\matplotlib\\colors.py\u001b[0m in \u001b[0;36mto_rgba\u001b[1;34m(c, alpha)\u001b[0m\n\u001b[0;32m    187\u001b[0m         \u001b[0mrgba\u001b[0m \u001b[1;33m=\u001b[0m \u001b[1;32mNone\u001b[0m\u001b[1;33m\u001b[0m\u001b[1;33m\u001b[0m\u001b[0m\n\u001b[0;32m    188\u001b[0m     \u001b[1;32mif\u001b[0m \u001b[0mrgba\u001b[0m \u001b[1;32mis\u001b[0m \u001b[1;32mNone\u001b[0m\u001b[1;33m:\u001b[0m  \u001b[1;31m# Suppress exception chaining of cache lookup failure.\u001b[0m\u001b[1;33m\u001b[0m\u001b[1;33m\u001b[0m\u001b[0m\n\u001b[1;32m--> 189\u001b[1;33m         \u001b[0mrgba\u001b[0m \u001b[1;33m=\u001b[0m \u001b[0m_to_rgba_no_colorcycle\u001b[0m\u001b[1;33m(\u001b[0m\u001b[0mc\u001b[0m\u001b[1;33m,\u001b[0m \u001b[0malpha\u001b[0m\u001b[1;33m)\u001b[0m\u001b[1;33m\u001b[0m\u001b[1;33m\u001b[0m\u001b[0m\n\u001b[0m\u001b[0;32m    190\u001b[0m         \u001b[1;32mtry\u001b[0m\u001b[1;33m:\u001b[0m\u001b[1;33m\u001b[0m\u001b[1;33m\u001b[0m\u001b[0m\n\u001b[0;32m    191\u001b[0m             \u001b[0m_colors_full_map\u001b[0m\u001b[1;33m.\u001b[0m\u001b[0mcache\u001b[0m\u001b[1;33m[\u001b[0m\u001b[0mc\u001b[0m\u001b[1;33m,\u001b[0m \u001b[0malpha\u001b[0m\u001b[1;33m]\u001b[0m \u001b[1;33m=\u001b[0m \u001b[0mrgba\u001b[0m\u001b[1;33m\u001b[0m\u001b[1;33m\u001b[0m\u001b[0m\n",
      "\u001b[1;32m~\\anaconda3\\lib\\site-packages\\matplotlib\\colors.py\u001b[0m in \u001b[0;36m_to_rgba_no_colorcycle\u001b[1;34m(c, alpha)\u001b[0m\n\u001b[0;32m    258\u001b[0m                     f\"Value must be within 0-1 range\")\n\u001b[0;32m    259\u001b[0m             \u001b[1;32mreturn\u001b[0m \u001b[0mc\u001b[0m\u001b[1;33m,\u001b[0m \u001b[0mc\u001b[0m\u001b[1;33m,\u001b[0m \u001b[0mc\u001b[0m\u001b[1;33m,\u001b[0m \u001b[0malpha\u001b[0m \u001b[1;32mif\u001b[0m \u001b[0malpha\u001b[0m \u001b[1;32mis\u001b[0m \u001b[1;32mnot\u001b[0m \u001b[1;32mNone\u001b[0m \u001b[1;32melse\u001b[0m \u001b[1;36m1.\u001b[0m\u001b[1;33m\u001b[0m\u001b[1;33m\u001b[0m\u001b[0m\n\u001b[1;32m--> 260\u001b[1;33m         \u001b[1;32mraise\u001b[0m \u001b[0mValueError\u001b[0m\u001b[1;33m(\u001b[0m\u001b[1;34mf\"Invalid RGBA argument: {orig_c!r}\"\u001b[0m\u001b[1;33m)\u001b[0m\u001b[1;33m\u001b[0m\u001b[1;33m\u001b[0m\u001b[0m\n\u001b[0m\u001b[0;32m    261\u001b[0m     \u001b[1;31m# tuple color.\u001b[0m\u001b[1;33m\u001b[0m\u001b[1;33m\u001b[0m\u001b[1;33m\u001b[0m\u001b[0m\n\u001b[0;32m    262\u001b[0m     \u001b[1;32mif\u001b[0m \u001b[1;32mnot\u001b[0m \u001b[0mnp\u001b[0m\u001b[1;33m.\u001b[0m\u001b[0miterable\u001b[0m\u001b[1;33m(\u001b[0m\u001b[0mc\u001b[0m\u001b[1;33m)\u001b[0m\u001b[1;33m:\u001b[0m\u001b[1;33m\u001b[0m\u001b[1;33m\u001b[0m\u001b[0m\n",
      "\u001b[1;31mValueError\u001b[0m: Invalid RGBA argument: 'K'"
     ]
    },
    {
     "data": {
      "text/plain": [
       "<Figure size 432x288 with 1 Axes>"
      ]
     },
     "metadata": {},
     "output_type": "display_data"
    }
   ],
   "source": [
    "from matplotlib import pyplot as plt\n",
    "from matplotlib import style\n",
    "\n",
    "style.use(\"ggplot\")\n",
    "\n",
    "x1 = [5,8,10]\n",
    "y1 = [12,16,6]\n",
    "\n",
    "x2 = [6,9,11]\n",
    "y2 = [6,15,7]\n",
    "\n",
    "plt.plot(x1,y1,'g',label ='line one',linewidth=5)\n",
    "plt.plot(x2,y2,'c',label ='line two',linewidth=5)\n",
    "\n",
    "plt.title('Epic info')\n",
    "plt.ylabel('Y axis')\n",
    "plt.xlabel('X axis')\n",
    "\n",
    "plt.grid(True,color='K')\n",
    "plt.show()"
   ]
  },
  {
   "cell_type": "code",
   "execution_count": null,
   "id": "54492790",
   "metadata": {},
   "outputs": [],
   "source": []
  }
 ],
 "metadata": {
  "kernelspec": {
   "display_name": "Python 3",
   "language": "python",
   "name": "python3"
  },
  "language_info": {
   "codemirror_mode": {
    "name": "ipython",
    "version": 3
   },
   "file_extension": ".py",
   "mimetype": "text/x-python",
   "name": "python",
   "nbconvert_exporter": "python",
   "pygments_lexer": "ipython3",
   "version": "3.8.8"
  }
 },
 "nbformat": 4,
 "nbformat_minor": 5
}
